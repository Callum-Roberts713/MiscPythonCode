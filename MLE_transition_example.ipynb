{
  "cells": [
    {
      "cell_type": "markdown",
      "metadata": {
        "id": "view-in-github",
        "colab_type": "text"
      },
      "source": [
        "<a href=\"https://colab.research.google.com/github/Callum-Roberts713/MiscPythonCode/blob/main/MLE_transition_example.ipynb\" target=\"_parent\"><img src=\"https://colab.research.google.com/assets/colab-badge.svg\" alt=\"Open In Colab\"/></a>"
      ]
    },
    {
      "cell_type": "code",
      "source": [
        "import numpy as np\n",
        "import matplotlib.pyplot as plt"
      ],
      "outputs": [],
      "execution_count": null,
      "metadata": {
        "execution": {
          "iopub.status.busy": "2022-02-21T10:48:22.079Z",
          "iopub.execute_input": "2022-02-21T10:48:22.089Z",
          "iopub.status.idle": "2022-02-21T10:48:23.556Z",
          "shell.execute_reply": "2022-02-21T10:48:23.568Z"
        },
        "id": "_oh2qIdnJ2WI"
      }
    },
    {
      "cell_type": "code",
      "source": [
        "def RMSDEV(A,B):\n",
        "    diff2=(np.array(A)-np.array(B))**2\n",
        "    return(np.sqrt(diff2.sum()/len(diff2)))"
      ],
      "outputs": [],
      "execution_count": null,
      "metadata": {
        "execution": {
          "iopub.status.busy": "2022-02-21T10:48:26.521Z",
          "iopub.execute_input": "2022-02-21T10:48:26.528Z",
          "iopub.status.idle": "2022-02-21T10:48:26.537Z",
          "shell.execute_reply": "2022-02-21T10:48:26.545Z"
        },
        "id": "hUhPBSn-J2WO"
      }
    },
    {
      "cell_type": "code",
      "source": [
        "#Labelled transitions from Table VI of Minzhong Xu, Francesco Sebastianelli, and Zlatko Bačić THE JOURNAL OF CHEMICAL PHYSICS 128, 244715 (2008)\n",
        "labelled_trans=[73.0,75.9,98.0,159.3, 160.2, 173.3, 181.9, 184.1, 219.4]\n",
        "labelled_qnumbers=[[1,0,0],[0,1,0],[0,0,1],[2,0,0],[1,1,0],[1,0,1],[0,2,0],[0,1,1],[0,0,2]]"
      ],
      "outputs": [],
      "execution_count": null,
      "metadata": {
        "execution": {
          "iopub.status.busy": "2022-02-21T10:48:28.473Z",
          "iopub.execute_input": "2022-02-21T10:48:28.478Z",
          "iopub.status.idle": "2022-02-21T10:48:28.491Z",
          "shell.execute_reply": "2022-02-21T10:48:28.498Z"
        },
        "id": "UHC8ZnY_J2WP"
      }
    },
    {
      "cell_type": "code",
      "source": [
        "def Ebox(Lx,Ly,Lz,nx,ny,nz):\n",
        "    Lx=1.889725989*Lx\n",
        "    Ly=1.889725989*Ly\n",
        "    Lz=1.889725989*Lz\n",
        "    h=2*np.pi\n",
        "    m=2*(1.0078)*1.82289*10**3\n",
        "    htocm=219474.63\n",
        "    return(htocm*(h**2/(8*m))*((nx**2)/(Lx**2)+(ny**2)/(Ly**2)+(nz**2)/(Lz**2)))\n",
        "\n",
        "#GROUND STATE IN PBOX IS (1,1,1) !!\n",
        "def fund_transition_PB3D_vec(Lx,Ly,Lz,fn):\n",
        "    trans_cal=[]\n",
        "    for element in fn:\n",
        "        trans_cal.append(Ebox(Lx,Ly,Lz,element[0]+1,element[1]+1,element[2]+1)-Ebox(Lx,Ly,Lz,1,1,1))\n",
        "    return(trans_cal)"
      ],
      "outputs": [],
      "execution_count": null,
      "metadata": {
        "execution": {
          "iopub.status.busy": "2022-02-21T10:49:15.374Z",
          "iopub.execute_input": "2022-02-21T10:49:15.380Z",
          "iopub.status.idle": "2022-02-21T10:49:15.388Z",
          "shell.execute_reply": "2022-02-21T10:49:15.394Z"
        },
        "id": "b9yVZzlxJ2WQ"
      }
    },
    {
      "cell_type": "code",
      "source": [
        "import scipy.stats as stats\n",
        "from scipy.optimize import minimize\n",
        "\n",
        "#new reg\n",
        "def dataMLEreg_PB_Lasso(params):\n",
        "    Lx, Ly, Lz, sd,xes,data = params[0], params[1] , params[2], params[3],params[4],params[5]# inputs are guesses at our parameters\n",
        "\n",
        "# compute PDF of observed values normally distributed around mean (yhat)\n",
        "# with a standard deviation of sd\n",
        "    #xes is a list of three quantum numbers\n",
        "    yhat = fund_transition_PB3D_vec(Lx,Ly,Lz,xes) # predictions\n",
        "\n",
        "    # next, we flip the Bayesian question\n",
        "# compute PDF of observed values normally distributed around mean (yhat)\n",
        "# with a standard deviation of sd\n",
        "    negLL = -np.sum( stats.norm.logpdf(data, loc=yhat, scale=sd) )\n",
        "# return negative LL return(negLL)\n",
        "    return(negLL)"
      ],
      "outputs": [],
      "execution_count": null,
      "metadata": {
        "execution": {
          "iopub.status.busy": "2022-02-21T10:49:17.783Z",
          "iopub.execute_input": "2022-02-21T10:49:17.789Z",
          "iopub.status.idle": "2022-02-21T10:49:20.480Z",
          "shell.execute_reply": "2022-02-21T10:49:20.488Z"
        },
        "id": "U22_ZE4RJ2WS"
      }
    },
    {
      "cell_type": "code",
      "source": [
        "newfun=lambda x : dataMLEreg_PB_Lasso([x[0],x[1],x[2],.1,labelled_qnumbers,labelled_trans])\n",
        "guess = np.array([1, 1,1])\n",
        "resultsPB = minimize(newfun, guess, method = 'Nelder-Mead', options={'disp': True})\n",
        "print(resultsPB)"
      ],
      "outputs": [
        {
          "output_type": "stream",
          "name": "stdout",
          "text": [
            "Optimization terminated successfully.\n",
            "         Current function value: 107985.097058\n",
            "         Iterations: 77\n",
            "         Function evaluations: 137\n",
            "       message: Optimization terminated successfully.\n",
            "       success: True\n",
            "        status: 0\n",
            "           fun: 107985.09705821768\n",
            "             x: [ 1.936e+00  1.827e+00  1.668e+00]\n",
            "           nit: 77\n",
            "          nfev: 137\n",
            " final_simplex: (array([[ 1.936e+00,  1.827e+00,  1.668e+00],\n",
            "                       [ 1.936e+00,  1.827e+00,  1.668e+00],\n",
            "                       [ 1.936e+00,  1.827e+00,  1.668e+00],\n",
            "                       [ 1.936e+00,  1.827e+00,  1.668e+00]]), array([ 1.080e+05,  1.080e+05,  1.080e+05,  1.080e+05]))\n"
          ]
        }
      ],
      "execution_count": null,
      "metadata": {
        "execution": {
          "iopub.status.busy": "2022-02-21T10:49:22.348Z",
          "iopub.execute_input": "2022-02-21T10:49:22.359Z",
          "iopub.status.idle": "2022-02-21T10:49:22.379Z",
          "shell.execute_reply": "2022-02-21T10:49:22.387Z"
        },
        "id": "VpTCOPZMJ2WT",
        "outputId": "720878f7-827c-4755-99ad-35c98de7954f",
        "colab": {
          "base_uri": "https://localhost:8080/"
        }
      }
    },
    {
      "cell_type": "code",
      "source": [
        "f = plt.figure()\n",
        "ypred=fund_transition_PB3D_vec(resultsPB.x[0],resultsPB.x[1],resultsPB.x[2],labelled_qnumbers)\n",
        "plt.plot(ypred,'r^')\n",
        "plt.ylim(40,280)\n",
        "plt.xlim(-0.5,len(labelled_qnumbers))\n",
        "plt.xticks([], [])\n",
        "plt.plot(labelled_trans,'ko')\n",
        "plt.ylabel('Transition energy [cm$^{-1}$]')\n",
        "plt.xlabel('Transition final quantum number $(n_x,n_y,n_z)$')\n",
        "textstr = '\\n'.join((\n",
        "    r'MLE fit, RMSD = %.2f cm$^{-1}$'%RMSDEV(ypred,labelled_trans),\n",
        "    r'$L_x$ = %.3f Å, $L_y$ = %.3f Å, $L_z$ = %.3f Å'%(resultsPB.x[0],resultsPB.x[1],resultsPB.x[2])))\n",
        "\n",
        "props = dict(boxstyle='round', facecolor='wheat', alpha=1)\n",
        "\n",
        "plt.text(0,270, textstr,\n",
        "        verticalalignment='top', bbox=props)\n",
        "\n",
        "ts=0\n",
        "for lab in labelled_qnumbers:\n",
        "    if(ts<4):\n",
        "        plt.annotate('(%d,%d,%d)'%(lab[0],lab[1],lab[2]),xy=(ts,ypred[ts]*1.1), xytext=(ts-0.4,max(ypred[ts],labelled_trans[ts])*1.15), va='center')\n",
        "    else:\n",
        "        plt.annotate('(%d,%d,%d)'%(lab[0],lab[1],lab[2]),xy=(ts,ypred[ts]*.9), xytext=(ts-0.4,min(ypred[ts],labelled_trans[ts])*.9), va='center')\n",
        "    ts+=1\n",
        "\n",
        "plt.show()\n",
        "f.savefig(\"H2_pbox_fit.pdf\", bbox_inches='tight')"
      ],
      "outputs": [
        {
          "output_type": "display_data",
          "data": {
            "text/plain": [
              "<Figure size 640x480 with 1 Axes>"
            ],
            "image/png": "[encoded data removed]"
          },
          "metadata": {}
        }
      ],
      "execution_count": null,
      "metadata": {
        "execution": {
          "iopub.status.busy": "2022-02-21T10:51:19.586Z",
          "iopub.execute_input": "2022-02-21T10:51:19.594Z",
          "iopub.status.idle": "2022-02-21T10:51:19.983Z",
          "shell.execute_reply": "2022-02-21T10:51:19.990Z"
        },
        "id": "QF9HMvWvJ2WV",
        "outputId": "0f3f2a51-f891-4398-b916-f4de371dac9c",
        "colab": {
          "base_uri": "https://localhost:8080/",
          "height": 431
        }
      }
    },
    {
      "cell_type": "code",
      "source": [],
      "outputs": [],
      "execution_count": null,
      "metadata": {
        "id": "mAlRSPl6J2WX"
      }
    }
  ],
  "metadata": {
    "kernelspec": {
      "display_name": "Python 3",
      "language": "python",
      "name": "python3"
    },
    "language_info": {
      "name": "python",
      "version": "3.7.8",
      "mimetype": "text/x-python",
      "codemirror_mode": {
        "name": "ipython",
        "version": 3
      },
      "pygments_lexer": "ipython3",
      "nbconvert_exporter": "python",
      "file_extension": ".py"
    },
    "nteract": {
      "version": "0.28.0"
    },
    "colab": {
      "provenance": [],
      "include_colab_link": true
    }
  },
  "nbformat": 4,
  "nbformat_minor": 0
}