{
  "nbformat": 4,
  "nbformat_minor": 0,
  "metadata": {
    "colab": {
      "provenance": [],
      "toc_visible": true,
      "mount_file_id": "1PkJMaOC8xHbSN2N7JZ3SBFI99zggbcMj",
      "authorship_tag": "ABX9TyPqsdD+NfD3L9ViRDub33nf",
      "include_colab_link": true
    },
    "kernelspec": {
      "name": "python3",
      "display_name": "Python 3"
    },
    "language_info": {
      "name": "python"
    },
    "accelerator": "GPU"
  },
  "cells": [
    {
      "cell_type": "markdown",
      "metadata": {
        "id": "view-in-github",
        "colab_type": "text"
      },
      "source": [
        "<a href=\"https://colab.research.google.com/github/Callum-Roberts713/MiscPythonCode/blob/main/TensorFlowTest.ipynb\" target=\"_parent\"><img src=\"https://colab.research.google.com/assets/colab-badge.svg\" alt=\"Open In Colab\"/></a>"
      ]
    },
    {
      "cell_type": "code",
      "execution_count": null,
      "metadata": {
        "id": "mjHRt-UCb8ha"
      },
      "outputs": [],
      "source": [
        "import keras\n",
        "from keras.datasets import mnist\n",
        "from keras.models import Sequential\n",
        "from keras.layers import Dense , Dropout , Flatten\n",
        "from keras.layers import Conv2D , MaxPooling2D\n",
        "from keras import backend as K\n",
        "from tensorflow.keras.utils import to_categorical\n",
        "import tensorflow as tf\n",
        "import matplotlib.pyplot as plt\n",
        "batch_size = 128\n",
        "num_classes = 10\n",
        "epochs = 12\n",
        "\n",
        "# input image dimensions\n",
        "img_rows , img_cols = 28, 28\n",
        "\n",
        "# the data , shuffled and split between train and test sets"
      ]
    },
    {
      "cell_type": "code",
      "source": [
        "(x_train , y_train), (x_test , y_test) = mnist.load_data ()\n",
        "\n",
        "if K.image_data_format () == 'channels_first':\n",
        "  x_train = x_train.reshape(x_train.shape[0], 1, img_rows , img_cols)\n",
        "  x_test = x_test.reshape(x_test.shape[0], 1, img_rows , img_cols)\n",
        "  input_shape = (1, img_rows , img_cols)\n",
        "else:\n",
        "  x_train = x_train.reshape(x_train.shape[0], img_rows , img_cols , 1)\n",
        "  x_test = x_test.reshape(x_test.shape[0], img_rows , img_cols , 1)\n",
        "  input_shape = (img_rows , img_cols , 1)\n",
        "\n",
        "  x_train = x_train.astype('float32')\n",
        "  x_test = x_test.astype('float32')\n",
        "  x_train /= 255\n",
        "  x_test /= 255\n",
        "print('x_train shape:', x_train.shape)\n",
        "print(x_train.shape [0], 'train samples')\n",
        "print(x_test.shape [0], 'test samples' )\n",
        "\n",
        "# convert class vectors to binary class matrices\n",
        "y_train = keras.utils.np_utils.to_categorical(y_train , num_classes)\n",
        "y_test = keras.utils.np_utils.to_categorical(y_test , num_classes)"
      ],
      "metadata": {
        "colab": {
          "base_uri": "https://localhost:8080/"
        },
        "id": "7ppzcL6ecBo0",
        "outputId": "aad1d893-004d-46f0-8826-2cd31bb19061"
      },
      "execution_count": null,
      "outputs": [
        {
          "output_type": "stream",
          "name": "stdout",
          "text": [
            "Downloading data from https://storage.googleapis.com/tensorflow/tf-keras-datasets/mnist.npz\n",
            "11493376/11490434 [==============================] - 0s 0us/step\n",
            "11501568/11490434 [==============================] - 0s 0us/step\n",
            "x_train shape: (60000, 28, 28, 1)\n",
            "60000 train samples\n",
            "10000 test samples\n"
          ]
        }
      ]
    },
    {
      "cell_type": "code",
      "source": [
        "model = Sequential ()\n",
        "model.add(Conv2D (32, kernel_size =(3, 3),\n",
        "activation='relu',\n",
        "input_shape=input_shape))\n",
        "model.add(Conv2D (64, (3, 3), activation='relu'))\n",
        "model.add(MaxPooling2D(pool_size =(2, 2)))\n",
        "model.add(Dropout (0))\n",
        "model.add(Flatten ())\n",
        "model.add(Dense (128, activation='relu'))\n",
        "model.add(Dropout (0.2))\n",
        "model.add(Dense(num_classes , activation='softmax'))\n",
        "model.summary ()\n",
        "\n",
        "model.compile(loss=keras.losses.categorical_crossentropy ,\n",
        "optimizer= tf.keras.optimizers.Adamax(),\n",
        "metrics =['accuracy'])"
      ],
      "metadata": {
        "colab": {
          "base_uri": "https://localhost:8080/"
        },
        "id": "pv1PIsQEcqJx",
        "outputId": "d0a55743-4128-4b0c-d8c9-8cd5a04238d5"
      },
      "execution_count": null,
      "outputs": [
        {
          "output_type": "stream",
          "name": "stdout",
          "text": [
            "Model: \"sequential_3\"\n",
            "_________________________________________________________________\n",
            " Layer (type)                Output Shape              Param #   \n",
            "=================================================================\n",
            " conv2d_6 (Conv2D)           (None, 26, 26, 32)        320       \n",
            "                                                                 \n",
            " conv2d_7 (Conv2D)           (None, 24, 24, 64)        18496     \n",
            "                                                                 \n",
            " max_pooling2d_3 (MaxPooling  (None, 12, 12, 64)       0         \n",
            " 2D)                                                             \n",
            "                                                                 \n",
            " dropout_6 (Dropout)         (None, 12, 12, 64)        0         \n",
            "                                                                 \n",
            " flatten_3 (Flatten)         (None, 9216)              0         \n",
            "                                                                 \n",
            " dense_6 (Dense)             (None, 128)               1179776   \n",
            "                                                                 \n",
            " dropout_7 (Dropout)         (None, 128)               0         \n",
            "                                                                 \n",
            " dense_7 (Dense)             (None, 10)                1290      \n",
            "                                                                 \n",
            "=================================================================\n",
            "Total params: 1,199,882\n",
            "Trainable params: 1,199,882\n",
            "Non-trainable params: 0\n",
            "_________________________________________________________________\n"
          ]
        }
      ]
    },
    {
      "cell_type": "code",
      "source": [
        "history = model.fit(x_train , y_train ,\n",
        "batch_size=batch_size ,\n",
        "epochs=epochs ,\n",
        "verbose=1,\n",
        "validation_data =(x_test , y_test))\n",
        "score = model.evaluate(x_test , y_test , verbose =0)\n",
        "print('Test loss:', score [0])\n",
        "print('Test accuracy:', score [1])"
      ],
      "metadata": {
        "colab": {
          "base_uri": "https://localhost:8080/"
        },
        "id": "etKNI9yViFd5",
        "outputId": "ed4fafa9-89b3-4b23-c39c-6c92bdd619bd"
      },
      "execution_count": null,
      "outputs": [
        {
          "output_type": "stream",
          "name": "stdout",
          "text": [
            "Epoch 1/12\n",
            "469/469 [==============================] - 8s 16ms/step - loss: 0.2499 - accuracy: 0.9262 - val_loss: 0.0713 - val_accuracy: 0.9784\n",
            "Epoch 2/12\n",
            "469/469 [==============================] - 8s 16ms/step - loss: 0.0787 - accuracy: 0.9762 - val_loss: 0.0495 - val_accuracy: 0.9841\n",
            "Epoch 3/12\n",
            "469/469 [==============================] - 7s 16ms/step - loss: 0.0556 - accuracy: 0.9831 - val_loss: 0.0381 - val_accuracy: 0.9869\n",
            "Epoch 4/12\n",
            "469/469 [==============================] - 8s 16ms/step - loss: 0.0438 - accuracy: 0.9866 - val_loss: 0.0366 - val_accuracy: 0.9882\n",
            "Epoch 5/12\n",
            "469/469 [==============================] - 7s 16ms/step - loss: 0.0345 - accuracy: 0.9897 - val_loss: 0.0339 - val_accuracy: 0.9889\n",
            "Epoch 6/12\n",
            "469/469 [==============================] - 7s 16ms/step - loss: 0.0287 - accuracy: 0.9912 - val_loss: 0.0344 - val_accuracy: 0.9885\n",
            "Epoch 7/12\n",
            "469/469 [==============================] - 7s 16ms/step - loss: 0.0253 - accuracy: 0.9921 - val_loss: 0.0309 - val_accuracy: 0.9896\n",
            "Epoch 8/12\n",
            "469/469 [==============================] - 7s 16ms/step - loss: 0.0205 - accuracy: 0.9939 - val_loss: 0.0301 - val_accuracy: 0.9905\n",
            "Epoch 9/12\n",
            "469/469 [==============================] - 8s 16ms/step - loss: 0.0194 - accuracy: 0.9938 - val_loss: 0.0300 - val_accuracy: 0.9899\n",
            "Epoch 10/12\n",
            "469/469 [==============================] - 7s 16ms/step - loss: 0.0151 - accuracy: 0.9953 - val_loss: 0.0286 - val_accuracy: 0.9912\n",
            "Epoch 11/12\n",
            "469/469 [==============================] - 8s 16ms/step - loss: 0.0135 - accuracy: 0.9960 - val_loss: 0.0339 - val_accuracy: 0.9907\n",
            "Epoch 12/12\n",
            "469/469 [==============================] - 8s 16ms/step - loss: 0.0128 - accuracy: 0.9960 - val_loss: 0.0291 - val_accuracy: 0.9907\n",
            "Test loss: 0.029051927849650383\n",
            "Test accuracy: 0.9907000064849854\n"
          ]
        }
      ]
    },
    {
      "cell_type": "code",
      "source": [
        "plt.plot(history.history['loss'])\n",
        "plt.plot(history.history['val_loss'])\n",
        "plt.title('model loss')\n",
        "plt.ylabel('loss')\n",
        "plt.xlabel('epoch')\n",
        "plt.legend(['train', 'validation'], loc='upper left')\n",
        "plt.show()"
      ],
      "metadata": {
        "id": "KEjnOdRhfATP",
        "colab": {
          "base_uri": "https://localhost:8080/",
          "height": 295
        },
        "outputId": "68935114-eb4a-4d36-dfd6-3b3e26ea3c00"
      },
      "execution_count": null,
      "outputs": [
        {
          "output_type": "display_data",
          "data": {
            "text/plain": [
              "<Figure size 432x288 with 1 Axes>"
            ],
            "image/png": "[encoded data removed]"
          },
          "metadata": {
            "needs_background": "light"
          }
        }
      ]
    },
    {
      "cell_type": "code",
      "source": [],
      "metadata": {
        "id": "JDHxIxKDj3ry"
      },
      "execution_count": null,
      "outputs": []
    }
  ]
}