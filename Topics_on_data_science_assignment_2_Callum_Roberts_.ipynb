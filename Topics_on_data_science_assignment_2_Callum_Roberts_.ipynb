{
  "cells": [
    {
      "cell_type": "markdown",
      "metadata": {
        "id": "view-in-github",
        "colab_type": "text"
      },
      "source": [
        "<a href=\"https://colab.research.google.com/github/Callum-Roberts713/MiscPythonCode/blob/main/Topics_on_data_science_assignment_2_Callum_Roberts_.ipynb\" target=\"_parent\"><img src=\"https://colab.research.google.com/assets/colab-badge.svg\" alt=\"Open In Colab\"/></a>"
      ]
    },
    {
      "cell_type": "code",
      "execution_count": null,
      "metadata": {
        "id": "3RFaJquoSh_n"
      },
      "outputs": [],
      "source": [
        "import numpy as np\n",
        "import matplotlib.pyplot as plt\n",
        "%matplotlib inline\n",
        "import tensorflow as ts\n",
        "import pandas as pd\n",
        "import seaborn as sns\n",
        "from sklearn.linear_model import LinearRegression\n",
        "import seaborn as sns\n",
        "import scipy as sc\n",
        "from scipy import stats\n",
        "from statsmodels.graphics.tsaplots import plot_acf\n",
        "from sklearn.model_selection import train_test_split\n",
        "from sklearn.preprocessing import PolynomialFeatures\n",
        "from sklearn.metrics import r2_score\n",
        "from sklearn.svm import LinearSVC\n",
        "from sklearn.svm import SVC\n",
        "from sklearn.pipeline import make_pipeline\n",
        "from sklearn.preprocessing import StandardScaler\n",
        "from sklearn.datasets import make_classification"
      ]
    },
    {
      "cell_type": "code",
      "execution_count": null,
      "metadata": {
        "id": "Gdyovq2dSh_y"
      },
      "outputs": [],
      "source": [
        "data = pd.read_csv('coffeeData_3.csv', sep=\";\")"
      ]
    },
    {
      "cell_type": "code",
      "execution_count": null,
      "metadata": {
        "scrolled": true,
        "id": "vAhkYNpZSh_z",
        "outputId": "da5ad6ca-cb67-4ced-ff72-6e3e997e1089"
      },
      "outputs": [
        {
          "data": {
            "text/html": [
              "<div>\n",
              "<style scoped>\n",
              "    .dataframe tbody tr th:only-of-type {\n",
              "        vertical-align: middle;\n",
              "    }\n",
              "\n",
              "    .dataframe tbody tr th {\n",
              "        vertical-align: top;\n",
              "    }\n",
              "\n",
              "    .dataframe thead th {\n",
              "        text-align: right;\n",
              "    }\n",
              "</style>\n",
              "<table border=\"1\" class=\"dataframe\">\n",
              "  <thead>\n",
              "    <tr style=\"text-align: right;\">\n",
              "      <th></th>\n",
              "      <th>NAME</th>\n",
              "      <th>1</th>\n",
              "      <th>2</th>\n",
              "      <th>3</th>\n",
              "      <th>4</th>\n",
              "      <th>5</th>\n",
              "      <th>6</th>\n",
              "      <th>7</th>\n",
              "      <th>8</th>\n",
              "      <th>9</th>\n",
              "      <th>...</th>\n",
              "      <th>19</th>\n",
              "      <th>20</th>\n",
              "      <th>21</th>\n",
              "      <th>22</th>\n",
              "      <th>23</th>\n",
              "      <th>24</th>\n",
              "      <th>25</th>\n",
              "      <th>26</th>\n",
              "      <th>27</th>\n",
              "      <th>28</th>\n",
              "    </tr>\n",
              "  </thead>\n",
              "  <tbody>\n",
              "    <tr>\n",
              "      <th>0</th>\n",
              "      <td>LB</td>\n",
              "      <td>37</td>\n",
              "      <td>47</td>\n",
              "      <td>46</td>\n",
              "      <td>24</td>\n",
              "      <td>28</td>\n",
              "      <td>24</td>\n",
              "      <td>23</td>\n",
              "      <td>19</td>\n",
              "      <td>22</td>\n",
              "      <td>...</td>\n",
              "      <td>11</td>\n",
              "      <td>17</td>\n",
              "      <td>1</td>\n",
              "      <td>4</td>\n",
              "      <td>0</td>\n",
              "      <td>0</td>\n",
              "      <td>2</td>\n",
              "      <td>0</td>\n",
              "      <td>2</td>\n",
              "      <td>7</td>\n",
              "    </tr>\n",
              "    <tr>\n",
              "      <th>1</th>\n",
              "      <td>GF</td>\n",
              "      <td>41</td>\n",
              "      <td>35</td>\n",
              "      <td>47</td>\n",
              "      <td>16</td>\n",
              "      <td>10</td>\n",
              "      <td>36</td>\n",
              "      <td>29</td>\n",
              "      <td>57</td>\n",
              "      <td>44</td>\n",
              "      <td>...</td>\n",
              "      <td>1</td>\n",
              "      <td>1</td>\n",
              "      <td>3</td>\n",
              "      <td>1</td>\n",
              "      <td>0</td>\n",
              "      <td>0</td>\n",
              "      <td>0</td>\n",
              "      <td>0</td>\n",
              "      <td>0</td>\n",
              "      <td>0</td>\n",
              "    </tr>\n",
              "    <tr>\n",
              "      <th>2</th>\n",
              "      <td>JK</td>\n",
              "      <td>46</td>\n",
              "      <td>24</td>\n",
              "      <td>42</td>\n",
              "      <td>17</td>\n",
              "      <td>25</td>\n",
              "      <td>24</td>\n",
              "      <td>14</td>\n",
              "      <td>20</td>\n",
              "      <td>21</td>\n",
              "      <td>...</td>\n",
              "      <td>0</td>\n",
              "      <td>0</td>\n",
              "      <td>0</td>\n",
              "      <td>0</td>\n",
              "      <td>2</td>\n",
              "      <td>0</td>\n",
              "      <td>0</td>\n",
              "      <td>0</td>\n",
              "      <td>0</td>\n",
              "      <td>0</td>\n",
              "    </tr>\n",
              "    <tr>\n",
              "      <th>3</th>\n",
              "      <td>BG</td>\n",
              "      <td>27</td>\n",
              "      <td>30</td>\n",
              "      <td>23</td>\n",
              "      <td>12</td>\n",
              "      <td>21</td>\n",
              "      <td>24</td>\n",
              "      <td>25</td>\n",
              "      <td>26</td>\n",
              "      <td>30</td>\n",
              "      <td>...</td>\n",
              "      <td>28</td>\n",
              "      <td>13</td>\n",
              "      <td>19</td>\n",
              "      <td>33</td>\n",
              "      <td>23</td>\n",
              "      <td>42</td>\n",
              "      <td>16</td>\n",
              "      <td>32</td>\n",
              "      <td>26</td>\n",
              "      <td>19</td>\n",
              "    </tr>\n",
              "    <tr>\n",
              "      <th>4</th>\n",
              "      <td>CJ</td>\n",
              "      <td>20</td>\n",
              "      <td>5</td>\n",
              "      <td>0</td>\n",
              "      <td>0</td>\n",
              "      <td>0</td>\n",
              "      <td>1</td>\n",
              "      <td>1</td>\n",
              "      <td>1</td>\n",
              "      <td>3</td>\n",
              "      <td>...</td>\n",
              "      <td>0</td>\n",
              "      <td>0</td>\n",
              "      <td>0</td>\n",
              "      <td>0</td>\n",
              "      <td>0</td>\n",
              "      <td>0</td>\n",
              "      <td>0</td>\n",
              "      <td>0</td>\n",
              "      <td>0</td>\n",
              "      <td>0</td>\n",
              "    </tr>\n",
              "    <tr>\n",
              "      <th>5</th>\n",
              "      <td>YG</td>\n",
              "      <td>41</td>\n",
              "      <td>48</td>\n",
              "      <td>18</td>\n",
              "      <td>15</td>\n",
              "      <td>14</td>\n",
              "      <td>5</td>\n",
              "      <td>4</td>\n",
              "      <td>7</td>\n",
              "      <td>0</td>\n",
              "      <td>...</td>\n",
              "      <td>0</td>\n",
              "      <td>0</td>\n",
              "      <td>0</td>\n",
              "      <td>0</td>\n",
              "      <td>0</td>\n",
              "      <td>0</td>\n",
              "      <td>0</td>\n",
              "      <td>0</td>\n",
              "      <td>0</td>\n",
              "      <td>0</td>\n",
              "    </tr>\n",
              "    <tr>\n",
              "      <th>6</th>\n",
              "      <td>ML</td>\n",
              "      <td>6</td>\n",
              "      <td>18</td>\n",
              "      <td>43</td>\n",
              "      <td>27</td>\n",
              "      <td>17</td>\n",
              "      <td>19</td>\n",
              "      <td>13</td>\n",
              "      <td>26</td>\n",
              "      <td>19</td>\n",
              "      <td>...</td>\n",
              "      <td>16</td>\n",
              "      <td>32</td>\n",
              "      <td>26</td>\n",
              "      <td>20</td>\n",
              "      <td>4</td>\n",
              "      <td>11</td>\n",
              "      <td>0</td>\n",
              "      <td>0</td>\n",
              "      <td>0</td>\n",
              "      <td>0</td>\n",
              "    </tr>\n",
              "    <tr>\n",
              "      <th>7</th>\n",
              "      <td>MP</td>\n",
              "      <td>34</td>\n",
              "      <td>31</td>\n",
              "      <td>30</td>\n",
              "      <td>19</td>\n",
              "      <td>25</td>\n",
              "      <td>27</td>\n",
              "      <td>19</td>\n",
              "      <td>29</td>\n",
              "      <td>16</td>\n",
              "      <td>...</td>\n",
              "      <td>1</td>\n",
              "      <td>22</td>\n",
              "      <td>18</td>\n",
              "      <td>27</td>\n",
              "      <td>24</td>\n",
              "      <td>11</td>\n",
              "      <td>33</td>\n",
              "      <td>23</td>\n",
              "      <td>34</td>\n",
              "      <td>26</td>\n",
              "    </tr>\n",
              "    <tr>\n",
              "      <th>8</th>\n",
              "      <td>GR</td>\n",
              "      <td>14</td>\n",
              "      <td>12</td>\n",
              "      <td>23</td>\n",
              "      <td>13</td>\n",
              "      <td>17</td>\n",
              "      <td>16</td>\n",
              "      <td>10</td>\n",
              "      <td>15</td>\n",
              "      <td>10</td>\n",
              "      <td>...</td>\n",
              "      <td>0</td>\n",
              "      <td>0</td>\n",
              "      <td>0</td>\n",
              "      <td>0</td>\n",
              "      <td>0</td>\n",
              "      <td>0</td>\n",
              "      <td>0</td>\n",
              "      <td>0</td>\n",
              "      <td>0</td>\n",
              "      <td>0</td>\n",
              "    </tr>\n",
              "    <tr>\n",
              "      <th>9</th>\n",
              "      <td>DB</td>\n",
              "      <td>3</td>\n",
              "      <td>13</td>\n",
              "      <td>8</td>\n",
              "      <td>4</td>\n",
              "      <td>5</td>\n",
              "      <td>5</td>\n",
              "      <td>1</td>\n",
              "      <td>7</td>\n",
              "      <td>8</td>\n",
              "      <td>...</td>\n",
              "      <td>15</td>\n",
              "      <td>4</td>\n",
              "      <td>4</td>\n",
              "      <td>8</td>\n",
              "      <td>14</td>\n",
              "      <td>7</td>\n",
              "      <td>17</td>\n",
              "      <td>17</td>\n",
              "      <td>22</td>\n",
              "      <td>15</td>\n",
              "    </tr>\n",
              "    <tr>\n",
              "      <th>10</th>\n",
              "      <td>MH</td>\n",
              "      <td>26</td>\n",
              "      <td>6</td>\n",
              "      <td>14</td>\n",
              "      <td>6</td>\n",
              "      <td>18</td>\n",
              "      <td>16</td>\n",
              "      <td>30</td>\n",
              "      <td>40</td>\n",
              "      <td>20</td>\n",
              "      <td>...</td>\n",
              "      <td>9</td>\n",
              "      <td>13</td>\n",
              "      <td>8</td>\n",
              "      <td>4</td>\n",
              "      <td>10</td>\n",
              "      <td>7</td>\n",
              "      <td>5</td>\n",
              "      <td>0</td>\n",
              "      <td>2</td>\n",
              "      <td>0</td>\n",
              "    </tr>\n",
              "    <tr>\n",
              "      <th>11</th>\n",
              "      <td>JS</td>\n",
              "      <td>0</td>\n",
              "      <td>1</td>\n",
              "      <td>0</td>\n",
              "      <td>0</td>\n",
              "      <td>0</td>\n",
              "      <td>0</td>\n",
              "      <td>0</td>\n",
              "      <td>0</td>\n",
              "      <td>0</td>\n",
              "      <td>...</td>\n",
              "      <td>0</td>\n",
              "      <td>0</td>\n",
              "      <td>0</td>\n",
              "      <td>0</td>\n",
              "      <td>0</td>\n",
              "      <td>0</td>\n",
              "      <td>0</td>\n",
              "      <td>0</td>\n",
              "      <td>0</td>\n",
              "      <td>0</td>\n",
              "    </tr>\n",
              "    <tr>\n",
              "      <th>12</th>\n",
              "      <td>TL</td>\n",
              "      <td>0</td>\n",
              "      <td>0</td>\n",
              "      <td>0</td>\n",
              "      <td>20</td>\n",
              "      <td>37</td>\n",
              "      <td>37</td>\n",
              "      <td>29</td>\n",
              "      <td>36</td>\n",
              "      <td>36</td>\n",
              "      <td>...</td>\n",
              "      <td>29</td>\n",
              "      <td>46</td>\n",
              "      <td>47</td>\n",
              "      <td>20</td>\n",
              "      <td>26</td>\n",
              "      <td>18</td>\n",
              "      <td>0</td>\n",
              "      <td>0</td>\n",
              "      <td>0</td>\n",
              "      <td>0</td>\n",
              "    </tr>\n",
              "    <tr>\n",
              "      <th>13</th>\n",
              "      <td>TF</td>\n",
              "      <td>0</td>\n",
              "      <td>0</td>\n",
              "      <td>0</td>\n",
              "      <td>0</td>\n",
              "      <td>0</td>\n",
              "      <td>0</td>\n",
              "      <td>0</td>\n",
              "      <td>0</td>\n",
              "      <td>3</td>\n",
              "      <td>...</td>\n",
              "      <td>0</td>\n",
              "      <td>0</td>\n",
              "      <td>0</td>\n",
              "      <td>0</td>\n",
              "      <td>0</td>\n",
              "      <td>0</td>\n",
              "      <td>0</td>\n",
              "      <td>0</td>\n",
              "      <td>0</td>\n",
              "      <td>0</td>\n",
              "    </tr>\n",
              "    <tr>\n",
              "      <th>14</th>\n",
              "      <td>MK</td>\n",
              "      <td>0</td>\n",
              "      <td>0</td>\n",
              "      <td>0</td>\n",
              "      <td>0</td>\n",
              "      <td>0</td>\n",
              "      <td>0</td>\n",
              "      <td>0</td>\n",
              "      <td>0</td>\n",
              "      <td>0</td>\n",
              "      <td>...</td>\n",
              "      <td>26</td>\n",
              "      <td>22</td>\n",
              "      <td>11</td>\n",
              "      <td>12</td>\n",
              "      <td>14</td>\n",
              "      <td>8</td>\n",
              "      <td>15</td>\n",
              "      <td>20</td>\n",
              "      <td>12</td>\n",
              "      <td>21</td>\n",
              "    </tr>\n",
              "    <tr>\n",
              "      <th>15</th>\n",
              "      <td>IV</td>\n",
              "      <td>0</td>\n",
              "      <td>0</td>\n",
              "      <td>0</td>\n",
              "      <td>0</td>\n",
              "      <td>0</td>\n",
              "      <td>0</td>\n",
              "      <td>0</td>\n",
              "      <td>0</td>\n",
              "      <td>0</td>\n",
              "      <td>...</td>\n",
              "      <td>8</td>\n",
              "      <td>6</td>\n",
              "      <td>9</td>\n",
              "      <td>7</td>\n",
              "      <td>3</td>\n",
              "      <td>4</td>\n",
              "      <td>3</td>\n",
              "      <td>9</td>\n",
              "      <td>13</td>\n",
              "      <td>22</td>\n",
              "    </tr>\n",
              "    <tr>\n",
              "      <th>16</th>\n",
              "      <td>CC</td>\n",
              "      <td>0</td>\n",
              "      <td>0</td>\n",
              "      <td>0</td>\n",
              "      <td>0</td>\n",
              "      <td>0</td>\n",
              "      <td>0</td>\n",
              "      <td>0</td>\n",
              "      <td>0</td>\n",
              "      <td>0</td>\n",
              "      <td>...</td>\n",
              "      <td>36</td>\n",
              "      <td>13</td>\n",
              "      <td>40</td>\n",
              "      <td>28</td>\n",
              "      <td>9</td>\n",
              "      <td>10</td>\n",
              "      <td>19</td>\n",
              "      <td>5</td>\n",
              "      <td>8</td>\n",
              "      <td>18</td>\n",
              "    </tr>\n",
              "    <tr>\n",
              "      <th>17</th>\n",
              "      <td>RS</td>\n",
              "      <td>0</td>\n",
              "      <td>0</td>\n",
              "      <td>0</td>\n",
              "      <td>0</td>\n",
              "      <td>0</td>\n",
              "      <td>0</td>\n",
              "      <td>0</td>\n",
              "      <td>0</td>\n",
              "      <td>0</td>\n",
              "      <td>...</td>\n",
              "      <td>23</td>\n",
              "      <td>19</td>\n",
              "      <td>15</td>\n",
              "      <td>14</td>\n",
              "      <td>13</td>\n",
              "      <td>10</td>\n",
              "      <td>17</td>\n",
              "      <td>18</td>\n",
              "      <td>16</td>\n",
              "      <td>13</td>\n",
              "    </tr>\n",
              "    <tr>\n",
              "      <th>18</th>\n",
              "      <td>BM</td>\n",
              "      <td>0</td>\n",
              "      <td>0</td>\n",
              "      <td>0</td>\n",
              "      <td>0</td>\n",
              "      <td>0</td>\n",
              "      <td>0</td>\n",
              "      <td>0</td>\n",
              "      <td>0</td>\n",
              "      <td>0</td>\n",
              "      <td>...</td>\n",
              "      <td>0</td>\n",
              "      <td>0</td>\n",
              "      <td>0</td>\n",
              "      <td>0</td>\n",
              "      <td>0</td>\n",
              "      <td>0</td>\n",
              "      <td>0</td>\n",
              "      <td>0</td>\n",
              "      <td>0</td>\n",
              "      <td>0</td>\n",
              "    </tr>\n",
              "    <tr>\n",
              "      <th>19</th>\n",
              "      <td>LC</td>\n",
              "      <td>0</td>\n",
              "      <td>0</td>\n",
              "      <td>0</td>\n",
              "      <td>0</td>\n",
              "      <td>0</td>\n",
              "      <td>0</td>\n",
              "      <td>0</td>\n",
              "      <td>0</td>\n",
              "      <td>0</td>\n",
              "      <td>...</td>\n",
              "      <td>0</td>\n",
              "      <td>0</td>\n",
              "      <td>0</td>\n",
              "      <td>0</td>\n",
              "      <td>0</td>\n",
              "      <td>0</td>\n",
              "      <td>0</td>\n",
              "      <td>0</td>\n",
              "      <td>0</td>\n",
              "      <td>0</td>\n",
              "    </tr>\n",
              "    <tr>\n",
              "      <th>20</th>\n",
              "      <td>TOTAL</td>\n",
              "      <td>295</td>\n",
              "      <td>270</td>\n",
              "      <td>294</td>\n",
              "      <td>173</td>\n",
              "      <td>217</td>\n",
              "      <td>234</td>\n",
              "      <td>198</td>\n",
              "      <td>283</td>\n",
              "      <td>232</td>\n",
              "      <td>...</td>\n",
              "      <td>203</td>\n",
              "      <td>208</td>\n",
              "      <td>201</td>\n",
              "      <td>178</td>\n",
              "      <td>142</td>\n",
              "      <td>128</td>\n",
              "      <td>127</td>\n",
              "      <td>124</td>\n",
              "      <td>135</td>\n",
              "      <td>141</td>\n",
              "    </tr>\n",
              "  </tbody>\n",
              "</table>\n",
              "<p>21 rows × 29 columns</p>\n",
              "</div>"
            ],
            "text/plain": [
              "     NAME    1    2    3    4    5    6    7    8    9  ...   19   20   21  \\\n",
              "0      LB   37   47   46   24   28   24   23   19   22  ...   11   17    1   \n",
              "1      GF   41   35   47   16   10   36   29   57   44  ...    1    1    3   \n",
              "2      JK   46   24   42   17   25   24   14   20   21  ...    0    0    0   \n",
              "3      BG   27   30   23   12   21   24   25   26   30  ...   28   13   19   \n",
              "4      CJ   20    5    0    0    0    1    1    1    3  ...    0    0    0   \n",
              "5      YG   41   48   18   15   14    5    4    7    0  ...    0    0    0   \n",
              "6      ML    6   18   43   27   17   19   13   26   19  ...   16   32   26   \n",
              "7      MP   34   31   30   19   25   27   19   29   16  ...    1   22   18   \n",
              "8      GR   14   12   23   13   17   16   10   15   10  ...    0    0    0   \n",
              "9      DB    3   13    8    4    5    5    1    7    8  ...   15    4    4   \n",
              "10     MH   26    6   14    6   18   16   30   40   20  ...    9   13    8   \n",
              "11     JS    0    1    0    0    0    0    0    0    0  ...    0    0    0   \n",
              "12     TL    0    0    0   20   37   37   29   36   36  ...   29   46   47   \n",
              "13     TF    0    0    0    0    0    0    0    0    3  ...    0    0    0   \n",
              "14     MK    0    0    0    0    0    0    0    0    0  ...   26   22   11   \n",
              "15     IV    0    0    0    0    0    0    0    0    0  ...    8    6    9   \n",
              "16     CC    0    0    0    0    0    0    0    0    0  ...   36   13   40   \n",
              "17     RS    0    0    0    0    0    0    0    0    0  ...   23   19   15   \n",
              "18     BM    0    0    0    0    0    0    0    0    0  ...    0    0    0   \n",
              "19     LC    0    0    0    0    0    0    0    0    0  ...    0    0    0   \n",
              "20  TOTAL  295  270  294  173  217  234  198  283  232  ...  203  208  201   \n",
              "\n",
              "     22   23   24   25   26   27   28  \n",
              "0     4    0    0    2    0    2    7  \n",
              "1     1    0    0    0    0    0    0  \n",
              "2     0    2    0    0    0    0    0  \n",
              "3    33   23   42   16   32   26   19  \n",
              "4     0    0    0    0    0    0    0  \n",
              "5     0    0    0    0    0    0    0  \n",
              "6    20    4   11    0    0    0    0  \n",
              "7    27   24   11   33   23   34   26  \n",
              "8     0    0    0    0    0    0    0  \n",
              "9     8   14    7   17   17   22   15  \n",
              "10    4   10    7    5    0    2    0  \n",
              "11    0    0    0    0    0    0    0  \n",
              "12   20   26   18    0    0    0    0  \n",
              "13    0    0    0    0    0    0    0  \n",
              "14   12   14    8   15   20   12   21  \n",
              "15    7    3    4    3    9   13   22  \n",
              "16   28    9   10   19    5    8   18  \n",
              "17   14   13   10   17   18   16   13  \n",
              "18    0    0    0    0    0    0    0  \n",
              "19    0    0    0    0    0    0    0  \n",
              "20  178  142  128  127  124  135  141  \n",
              "\n",
              "[21 rows x 29 columns]"
            ]
          },
          "execution_count": 3,
          "metadata": {},
          "output_type": "execute_result"
        }
      ],
      "source": [
        "data"
      ]
    },
    {
      "cell_type": "markdown",
      "metadata": {
        "id": "FFoGwkvXSh_3"
      },
      "source": [
        "I decided to choose the coffee data set and my initial thoughts for general analysis is to see if there is a repeating pattern in the average coffee drank over extended periods of time, i would predict that the months with higher coffee consumption are likely to be winter as people are more likely to drink warm drinks in the cold weather."
      ]
    },
    {
      "cell_type": "code",
      "execution_count": null,
      "metadata": {
        "id": "QZ1LB6fUSiAA",
        "outputId": "ebb03b3c-c7e3-4c34-f9e6-093e5409a91c"
      },
      "outputs": [
        {
          "data": {
            "text/html": [
              "<div>\n",
              "<style scoped>\n",
              "    .dataframe tbody tr th:only-of-type {\n",
              "        vertical-align: middle;\n",
              "    }\n",
              "\n",
              "    .dataframe tbody tr th {\n",
              "        vertical-align: top;\n",
              "    }\n",
              "\n",
              "    .dataframe thead th {\n",
              "        text-align: right;\n",
              "    }\n",
              "</style>\n",
              "<table border=\"1\" class=\"dataframe\">\n",
              "  <thead>\n",
              "    <tr style=\"text-align: right;\">\n",
              "      <th></th>\n",
              "      <th>NAME</th>\n",
              "      <th>1</th>\n",
              "      <th>2</th>\n",
              "      <th>3</th>\n",
              "      <th>4</th>\n",
              "      <th>5</th>\n",
              "      <th>6</th>\n",
              "      <th>7</th>\n",
              "      <th>8</th>\n",
              "      <th>9</th>\n",
              "      <th>...</th>\n",
              "      <th>19</th>\n",
              "      <th>20</th>\n",
              "      <th>21</th>\n",
              "      <th>22</th>\n",
              "      <th>23</th>\n",
              "      <th>24</th>\n",
              "      <th>25</th>\n",
              "      <th>26</th>\n",
              "      <th>27</th>\n",
              "      <th>28</th>\n",
              "    </tr>\n",
              "  </thead>\n",
              "  <tbody>\n",
              "    <tr>\n",
              "      <th>0</th>\n",
              "      <td>LB</td>\n",
              "      <td>37</td>\n",
              "      <td>47</td>\n",
              "      <td>46</td>\n",
              "      <td>24</td>\n",
              "      <td>28</td>\n",
              "      <td>24</td>\n",
              "      <td>23</td>\n",
              "      <td>19</td>\n",
              "      <td>22</td>\n",
              "      <td>...</td>\n",
              "      <td>11</td>\n",
              "      <td>17</td>\n",
              "      <td>1</td>\n",
              "      <td>4</td>\n",
              "      <td>0</td>\n",
              "      <td>0</td>\n",
              "      <td>2</td>\n",
              "      <td>0</td>\n",
              "      <td>2</td>\n",
              "      <td>7</td>\n",
              "    </tr>\n",
              "    <tr>\n",
              "      <th>1</th>\n",
              "      <td>GF</td>\n",
              "      <td>41</td>\n",
              "      <td>35</td>\n",
              "      <td>47</td>\n",
              "      <td>16</td>\n",
              "      <td>10</td>\n",
              "      <td>36</td>\n",
              "      <td>29</td>\n",
              "      <td>57</td>\n",
              "      <td>44</td>\n",
              "      <td>...</td>\n",
              "      <td>1</td>\n",
              "      <td>1</td>\n",
              "      <td>3</td>\n",
              "      <td>1</td>\n",
              "      <td>0</td>\n",
              "      <td>0</td>\n",
              "      <td>0</td>\n",
              "      <td>0</td>\n",
              "      <td>0</td>\n",
              "      <td>0</td>\n",
              "    </tr>\n",
              "    <tr>\n",
              "      <th>2</th>\n",
              "      <td>JK</td>\n",
              "      <td>46</td>\n",
              "      <td>24</td>\n",
              "      <td>42</td>\n",
              "      <td>17</td>\n",
              "      <td>25</td>\n",
              "      <td>24</td>\n",
              "      <td>14</td>\n",
              "      <td>20</td>\n",
              "      <td>21</td>\n",
              "      <td>...</td>\n",
              "      <td>0</td>\n",
              "      <td>0</td>\n",
              "      <td>0</td>\n",
              "      <td>0</td>\n",
              "      <td>2</td>\n",
              "      <td>0</td>\n",
              "      <td>0</td>\n",
              "      <td>0</td>\n",
              "      <td>0</td>\n",
              "      <td>0</td>\n",
              "    </tr>\n",
              "    <tr>\n",
              "      <th>3</th>\n",
              "      <td>BG</td>\n",
              "      <td>27</td>\n",
              "      <td>30</td>\n",
              "      <td>23</td>\n",
              "      <td>12</td>\n",
              "      <td>21</td>\n",
              "      <td>24</td>\n",
              "      <td>25</td>\n",
              "      <td>26</td>\n",
              "      <td>30</td>\n",
              "      <td>...</td>\n",
              "      <td>28</td>\n",
              "      <td>13</td>\n",
              "      <td>19</td>\n",
              "      <td>33</td>\n",
              "      <td>23</td>\n",
              "      <td>42</td>\n",
              "      <td>16</td>\n",
              "      <td>32</td>\n",
              "      <td>26</td>\n",
              "      <td>19</td>\n",
              "    </tr>\n",
              "    <tr>\n",
              "      <th>4</th>\n",
              "      <td>CJ</td>\n",
              "      <td>20</td>\n",
              "      <td>5</td>\n",
              "      <td>0</td>\n",
              "      <td>0</td>\n",
              "      <td>0</td>\n",
              "      <td>1</td>\n",
              "      <td>1</td>\n",
              "      <td>1</td>\n",
              "      <td>3</td>\n",
              "      <td>...</td>\n",
              "      <td>0</td>\n",
              "      <td>0</td>\n",
              "      <td>0</td>\n",
              "      <td>0</td>\n",
              "      <td>0</td>\n",
              "      <td>0</td>\n",
              "      <td>0</td>\n",
              "      <td>0</td>\n",
              "      <td>0</td>\n",
              "      <td>0</td>\n",
              "    </tr>\n",
              "    <tr>\n",
              "      <th>5</th>\n",
              "      <td>YG</td>\n",
              "      <td>41</td>\n",
              "      <td>48</td>\n",
              "      <td>18</td>\n",
              "      <td>15</td>\n",
              "      <td>14</td>\n",
              "      <td>5</td>\n",
              "      <td>4</td>\n",
              "      <td>7</td>\n",
              "      <td>0</td>\n",
              "      <td>...</td>\n",
              "      <td>0</td>\n",
              "      <td>0</td>\n",
              "      <td>0</td>\n",
              "      <td>0</td>\n",
              "      <td>0</td>\n",
              "      <td>0</td>\n",
              "      <td>0</td>\n",
              "      <td>0</td>\n",
              "      <td>0</td>\n",
              "      <td>0</td>\n",
              "    </tr>\n",
              "    <tr>\n",
              "      <th>6</th>\n",
              "      <td>ML</td>\n",
              "      <td>6</td>\n",
              "      <td>18</td>\n",
              "      <td>43</td>\n",
              "      <td>27</td>\n",
              "      <td>17</td>\n",
              "      <td>19</td>\n",
              "      <td>13</td>\n",
              "      <td>26</td>\n",
              "      <td>19</td>\n",
              "      <td>...</td>\n",
              "      <td>16</td>\n",
              "      <td>32</td>\n",
              "      <td>26</td>\n",
              "      <td>20</td>\n",
              "      <td>4</td>\n",
              "      <td>11</td>\n",
              "      <td>0</td>\n",
              "      <td>0</td>\n",
              "      <td>0</td>\n",
              "      <td>0</td>\n",
              "    </tr>\n",
              "    <tr>\n",
              "      <th>7</th>\n",
              "      <td>MP</td>\n",
              "      <td>34</td>\n",
              "      <td>31</td>\n",
              "      <td>30</td>\n",
              "      <td>19</td>\n",
              "      <td>25</td>\n",
              "      <td>27</td>\n",
              "      <td>19</td>\n",
              "      <td>29</td>\n",
              "      <td>16</td>\n",
              "      <td>...</td>\n",
              "      <td>1</td>\n",
              "      <td>22</td>\n",
              "      <td>18</td>\n",
              "      <td>27</td>\n",
              "      <td>24</td>\n",
              "      <td>11</td>\n",
              "      <td>33</td>\n",
              "      <td>23</td>\n",
              "      <td>34</td>\n",
              "      <td>26</td>\n",
              "    </tr>\n",
              "    <tr>\n",
              "      <th>8</th>\n",
              "      <td>GR</td>\n",
              "      <td>14</td>\n",
              "      <td>12</td>\n",
              "      <td>23</td>\n",
              "      <td>13</td>\n",
              "      <td>17</td>\n",
              "      <td>16</td>\n",
              "      <td>10</td>\n",
              "      <td>15</td>\n",
              "      <td>10</td>\n",
              "      <td>...</td>\n",
              "      <td>0</td>\n",
              "      <td>0</td>\n",
              "      <td>0</td>\n",
              "      <td>0</td>\n",
              "      <td>0</td>\n",
              "      <td>0</td>\n",
              "      <td>0</td>\n",
              "      <td>0</td>\n",
              "      <td>0</td>\n",
              "      <td>0</td>\n",
              "    </tr>\n",
              "    <tr>\n",
              "      <th>9</th>\n",
              "      <td>DB</td>\n",
              "      <td>3</td>\n",
              "      <td>13</td>\n",
              "      <td>8</td>\n",
              "      <td>4</td>\n",
              "      <td>5</td>\n",
              "      <td>5</td>\n",
              "      <td>1</td>\n",
              "      <td>7</td>\n",
              "      <td>8</td>\n",
              "      <td>...</td>\n",
              "      <td>15</td>\n",
              "      <td>4</td>\n",
              "      <td>4</td>\n",
              "      <td>8</td>\n",
              "      <td>14</td>\n",
              "      <td>7</td>\n",
              "      <td>17</td>\n",
              "      <td>17</td>\n",
              "      <td>22</td>\n",
              "      <td>15</td>\n",
              "    </tr>\n",
              "    <tr>\n",
              "      <th>10</th>\n",
              "      <td>MH</td>\n",
              "      <td>26</td>\n",
              "      <td>6</td>\n",
              "      <td>14</td>\n",
              "      <td>6</td>\n",
              "      <td>18</td>\n",
              "      <td>16</td>\n",
              "      <td>30</td>\n",
              "      <td>40</td>\n",
              "      <td>20</td>\n",
              "      <td>...</td>\n",
              "      <td>9</td>\n",
              "      <td>13</td>\n",
              "      <td>8</td>\n",
              "      <td>4</td>\n",
              "      <td>10</td>\n",
              "      <td>7</td>\n",
              "      <td>5</td>\n",
              "      <td>0</td>\n",
              "      <td>2</td>\n",
              "      <td>0</td>\n",
              "    </tr>\n",
              "    <tr>\n",
              "      <th>11</th>\n",
              "      <td>JS</td>\n",
              "      <td>0</td>\n",
              "      <td>1</td>\n",
              "      <td>0</td>\n",
              "      <td>0</td>\n",
              "      <td>0</td>\n",
              "      <td>0</td>\n",
              "      <td>0</td>\n",
              "      <td>0</td>\n",
              "      <td>0</td>\n",
              "      <td>...</td>\n",
              "      <td>0</td>\n",
              "      <td>0</td>\n",
              "      <td>0</td>\n",
              "      <td>0</td>\n",
              "      <td>0</td>\n",
              "      <td>0</td>\n",
              "      <td>0</td>\n",
              "      <td>0</td>\n",
              "      <td>0</td>\n",
              "      <td>0</td>\n",
              "    </tr>\n",
              "    <tr>\n",
              "      <th>12</th>\n",
              "      <td>TL</td>\n",
              "      <td>0</td>\n",
              "      <td>0</td>\n",
              "      <td>0</td>\n",
              "      <td>20</td>\n",
              "      <td>37</td>\n",
              "      <td>37</td>\n",
              "      <td>29</td>\n",
              "      <td>36</td>\n",
              "      <td>36</td>\n",
              "      <td>...</td>\n",
              "      <td>29</td>\n",
              "      <td>46</td>\n",
              "      <td>47</td>\n",
              "      <td>20</td>\n",
              "      <td>26</td>\n",
              "      <td>18</td>\n",
              "      <td>0</td>\n",
              "      <td>0</td>\n",
              "      <td>0</td>\n",
              "      <td>0</td>\n",
              "    </tr>\n",
              "    <tr>\n",
              "      <th>13</th>\n",
              "      <td>TF</td>\n",
              "      <td>0</td>\n",
              "      <td>0</td>\n",
              "      <td>0</td>\n",
              "      <td>0</td>\n",
              "      <td>0</td>\n",
              "      <td>0</td>\n",
              "      <td>0</td>\n",
              "      <td>0</td>\n",
              "      <td>3</td>\n",
              "      <td>...</td>\n",
              "      <td>0</td>\n",
              "      <td>0</td>\n",
              "      <td>0</td>\n",
              "      <td>0</td>\n",
              "      <td>0</td>\n",
              "      <td>0</td>\n",
              "      <td>0</td>\n",
              "      <td>0</td>\n",
              "      <td>0</td>\n",
              "      <td>0</td>\n",
              "    </tr>\n",
              "    <tr>\n",
              "      <th>14</th>\n",
              "      <td>MK</td>\n",
              "      <td>0</td>\n",
              "      <td>0</td>\n",
              "      <td>0</td>\n",
              "      <td>0</td>\n",
              "      <td>0</td>\n",
              "      <td>0</td>\n",
              "      <td>0</td>\n",
              "      <td>0</td>\n",
              "      <td>0</td>\n",
              "      <td>...</td>\n",
              "      <td>26</td>\n",
              "      <td>22</td>\n",
              "      <td>11</td>\n",
              "      <td>12</td>\n",
              "      <td>14</td>\n",
              "      <td>8</td>\n",
              "      <td>15</td>\n",
              "      <td>20</td>\n",
              "      <td>12</td>\n",
              "      <td>21</td>\n",
              "    </tr>\n",
              "    <tr>\n",
              "      <th>15</th>\n",
              "      <td>IV</td>\n",
              "      <td>0</td>\n",
              "      <td>0</td>\n",
              "      <td>0</td>\n",
              "      <td>0</td>\n",
              "      <td>0</td>\n",
              "      <td>0</td>\n",
              "      <td>0</td>\n",
              "      <td>0</td>\n",
              "      <td>0</td>\n",
              "      <td>...</td>\n",
              "      <td>8</td>\n",
              "      <td>6</td>\n",
              "      <td>9</td>\n",
              "      <td>7</td>\n",
              "      <td>3</td>\n",
              "      <td>4</td>\n",
              "      <td>3</td>\n",
              "      <td>9</td>\n",
              "      <td>13</td>\n",
              "      <td>22</td>\n",
              "    </tr>\n",
              "    <tr>\n",
              "      <th>16</th>\n",
              "      <td>CC</td>\n",
              "      <td>0</td>\n",
              "      <td>0</td>\n",
              "      <td>0</td>\n",
              "      <td>0</td>\n",
              "      <td>0</td>\n",
              "      <td>0</td>\n",
              "      <td>0</td>\n",
              "      <td>0</td>\n",
              "      <td>0</td>\n",
              "      <td>...</td>\n",
              "      <td>36</td>\n",
              "      <td>13</td>\n",
              "      <td>40</td>\n",
              "      <td>28</td>\n",
              "      <td>9</td>\n",
              "      <td>10</td>\n",
              "      <td>19</td>\n",
              "      <td>5</td>\n",
              "      <td>8</td>\n",
              "      <td>18</td>\n",
              "    </tr>\n",
              "    <tr>\n",
              "      <th>17</th>\n",
              "      <td>RS</td>\n",
              "      <td>0</td>\n",
              "      <td>0</td>\n",
              "      <td>0</td>\n",
              "      <td>0</td>\n",
              "      <td>0</td>\n",
              "      <td>0</td>\n",
              "      <td>0</td>\n",
              "      <td>0</td>\n",
              "      <td>0</td>\n",
              "      <td>...</td>\n",
              "      <td>23</td>\n",
              "      <td>19</td>\n",
              "      <td>15</td>\n",
              "      <td>14</td>\n",
              "      <td>13</td>\n",
              "      <td>10</td>\n",
              "      <td>17</td>\n",
              "      <td>18</td>\n",
              "      <td>16</td>\n",
              "      <td>13</td>\n",
              "    </tr>\n",
              "    <tr>\n",
              "      <th>18</th>\n",
              "      <td>BM</td>\n",
              "      <td>0</td>\n",
              "      <td>0</td>\n",
              "      <td>0</td>\n",
              "      <td>0</td>\n",
              "      <td>0</td>\n",
              "      <td>0</td>\n",
              "      <td>0</td>\n",
              "      <td>0</td>\n",
              "      <td>0</td>\n",
              "      <td>...</td>\n",
              "      <td>0</td>\n",
              "      <td>0</td>\n",
              "      <td>0</td>\n",
              "      <td>0</td>\n",
              "      <td>0</td>\n",
              "      <td>0</td>\n",
              "      <td>0</td>\n",
              "      <td>0</td>\n",
              "      <td>0</td>\n",
              "      <td>0</td>\n",
              "    </tr>\n",
              "    <tr>\n",
              "      <th>19</th>\n",
              "      <td>LC</td>\n",
              "      <td>0</td>\n",
              "      <td>0</td>\n",
              "      <td>0</td>\n",
              "      <td>0</td>\n",
              "      <td>0</td>\n",
              "      <td>0</td>\n",
              "      <td>0</td>\n",
              "      <td>0</td>\n",
              "      <td>0</td>\n",
              "      <td>...</td>\n",
              "      <td>0</td>\n",
              "      <td>0</td>\n",
              "      <td>0</td>\n",
              "      <td>0</td>\n",
              "      <td>0</td>\n",
              "      <td>0</td>\n",
              "      <td>0</td>\n",
              "      <td>0</td>\n",
              "      <td>0</td>\n",
              "      <td>0</td>\n",
              "    </tr>\n",
              "  </tbody>\n",
              "</table>\n",
              "<p>20 rows × 29 columns</p>\n",
              "</div>"
            ],
            "text/plain": [
              "   NAME   1   2   3   4   5   6   7   8   9  ...  19  20  21  22  23  24  25  \\\n",
              "0    LB  37  47  46  24  28  24  23  19  22  ...  11  17   1   4   0   0   2   \n",
              "1    GF  41  35  47  16  10  36  29  57  44  ...   1   1   3   1   0   0   0   \n",
              "2    JK  46  24  42  17  25  24  14  20  21  ...   0   0   0   0   2   0   0   \n",
              "3    BG  27  30  23  12  21  24  25  26  30  ...  28  13  19  33  23  42  16   \n",
              "4    CJ  20   5   0   0   0   1   1   1   3  ...   0   0   0   0   0   0   0   \n",
              "5    YG  41  48  18  15  14   5   4   7   0  ...   0   0   0   0   0   0   0   \n",
              "6    ML   6  18  43  27  17  19  13  26  19  ...  16  32  26  20   4  11   0   \n",
              "7    MP  34  31  30  19  25  27  19  29  16  ...   1  22  18  27  24  11  33   \n",
              "8    GR  14  12  23  13  17  16  10  15  10  ...   0   0   0   0   0   0   0   \n",
              "9    DB   3  13   8   4   5   5   1   7   8  ...  15   4   4   8  14   7  17   \n",
              "10   MH  26   6  14   6  18  16  30  40  20  ...   9  13   8   4  10   7   5   \n",
              "11   JS   0   1   0   0   0   0   0   0   0  ...   0   0   0   0   0   0   0   \n",
              "12   TL   0   0   0  20  37  37  29  36  36  ...  29  46  47  20  26  18   0   \n",
              "13   TF   0   0   0   0   0   0   0   0   3  ...   0   0   0   0   0   0   0   \n",
              "14   MK   0   0   0   0   0   0   0   0   0  ...  26  22  11  12  14   8  15   \n",
              "15   IV   0   0   0   0   0   0   0   0   0  ...   8   6   9   7   3   4   3   \n",
              "16   CC   0   0   0   0   0   0   0   0   0  ...  36  13  40  28   9  10  19   \n",
              "17   RS   0   0   0   0   0   0   0   0   0  ...  23  19  15  14  13  10  17   \n",
              "18   BM   0   0   0   0   0   0   0   0   0  ...   0   0   0   0   0   0   0   \n",
              "19   LC   0   0   0   0   0   0   0   0   0  ...   0   0   0   0   0   0   0   \n",
              "\n",
              "    26  27  28  \n",
              "0    0   2   7  \n",
              "1    0   0   0  \n",
              "2    0   0   0  \n",
              "3   32  26  19  \n",
              "4    0   0   0  \n",
              "5    0   0   0  \n",
              "6    0   0   0  \n",
              "7   23  34  26  \n",
              "8    0   0   0  \n",
              "9   17  22  15  \n",
              "10   0   2   0  \n",
              "11   0   0   0  \n",
              "12   0   0   0  \n",
              "13   0   0   0  \n",
              "14  20  12  21  \n",
              "15   9  13  22  \n",
              "16   5   8  18  \n",
              "17  18  16  13  \n",
              "18   0   0   0  \n",
              "19   0   0   0  \n",
              "\n",
              "[20 rows x 29 columns]"
            ]
          },
          "execution_count": 4,
          "metadata": {},
          "output_type": "execute_result"
        }
      ],
      "source": [
        "datamean=data.iloc[:-1]\n",
        "datamean\n"
      ]
    },
    {
      "cell_type": "markdown",
      "metadata": {
        "id": "L-bgjTcmSiAE"
      },
      "source": [
        "in order to test my hypothesis i will first need to obtain a mean of coffee drank per month. to do that i needed to remove the row with the total cups of coffee drank."
      ]
    },
    {
      "cell_type": "code",
      "execution_count": null,
      "metadata": {
        "id": "eQYnpMDcSiAF",
        "outputId": "8bbd0846-1fac-4afe-9553-eac03ce90351"
      },
      "outputs": [
        {
          "name": "stdout",
          "output_type": "stream",
          "text": [
            "14.75\n",
            "13.5\n",
            "14.7\n",
            "8.65\n",
            "10.85\n",
            "11.7\n",
            "9.9\n",
            "14.15\n",
            "11.6\n",
            "9.35\n",
            "7.4\n",
            "8.95\n",
            "10.3\n",
            "10.35\n",
            "14.25\n",
            "9.7\n",
            "8.85\n",
            "10.6\n",
            "10.15\n",
            "10.4\n",
            "10.05\n",
            "8.9\n",
            "7.1\n",
            "6.4\n",
            "6.35\n",
            "6.2\n",
            "6.75\n",
            "7.05\n"
          ]
        }
      ],
      "source": [
        "mean1=np.mean(datamean['1'])\n",
        "print(mean1)\n",
        "mean2=np.mean(datamean['2'])\n",
        "print(mean2)\n",
        "mean3=np.mean(datamean['3'])\n",
        "print(mean3)\n",
        "mean4=np.mean(datamean['4'])\n",
        "print(mean4)\n",
        "mean5=np.mean(datamean['5'])\n",
        "print(mean5)\n",
        "mean6=np.mean(datamean['6'])\n",
        "print(mean6)\n",
        "mean7=np.mean(datamean['7'])\n",
        "print(mean7)\n",
        "mean8=np.mean(datamean['8'])\n",
        "print(mean8)\n",
        "mean9=np.mean(datamean['9'])\n",
        "print(mean9)\n",
        "mean10=np.mean(datamean['10'])\n",
        "print(mean10)\n",
        "mean11=np.mean(datamean['11'])\n",
        "print(mean11)\n",
        "mean12=np.mean(datamean['12'])\n",
        "print(mean12)\n",
        "mean13=np.mean(datamean['13'])\n",
        "print(mean13)\n",
        "mean14=np.mean(datamean['14'])\n",
        "print(mean14)\n",
        "mean15=np.mean(datamean['15'])\n",
        "print(mean15)\n",
        "mean16=np.mean(datamean['16'])\n",
        "print(mean16)\n",
        "mean17=np.mean(datamean['17'])\n",
        "print(mean17)\n",
        "mean18=np.mean(datamean['18'])\n",
        "print(mean18)\n",
        "mean19=np.mean(datamean['19'])\n",
        "print(mean19)\n",
        "mean20=np.mean(datamean['20'])\n",
        "print(mean20)\n",
        "mean21=np.mean(datamean['21'])\n",
        "print(mean21)\n",
        "mean22=np.mean(datamean['22'])\n",
        "print(mean22)\n",
        "mean23=np.mean(datamean['23'])\n",
        "print(mean23)\n",
        "mean24=np.mean(datamean['24'])\n",
        "print(mean24)\n",
        "mean25=np.mean(datamean['25'])\n",
        "print(mean25)\n",
        "mean26=np.mean(datamean['26'])\n",
        "print(mean26)\n",
        "mean27=np.mean(datamean['27'])\n",
        "print(mean27)\n",
        "mean28=np.mean(datamean['28'])\n",
        "print(mean28)"
      ]
    },
    {
      "cell_type": "code",
      "execution_count": null,
      "metadata": {
        "id": "dDhOQ76hSiAH"
      },
      "outputs": [],
      "source": [
        "ave=np.array([mean1,mean2,mean3,mean4,mean5,mean6,mean7,mean8,mean9,mean10,mean11,mean12,mean13,mean14,mean15,mean16,mean17,mean18,mean19,mean20,mean21,mean22,mean23,mean24,mean25,mean26,mean27,mean28])\n",
        "ave1=np.array([mean1,mean2,mean3,mean4,mean5,mean6,mean7,mean8,mean9,mean10,mean11,mean12,mean13,mean14])\n",
        "ave2=np.array([mean15,mean16,mean17,mean18,mean19,mean20,mean21,mean22,mean23,mean24,mean25,mean26,mean27,mean28])"
      ]
    },
    {
      "cell_type": "markdown",
      "metadata": {
        "id": "_ocmZDrPSiAK"
      },
      "source": [
        "here i generate a mean number of coffees drank by everyone per month for each of the 28 months. i then put the values into an array such that i could use the means in graph form i also created two more arrays of the values in the first half of months and then the values in the second half to use later on."
      ]
    },
    {
      "cell_type": "code",
      "execution_count": null,
      "metadata": {
        "scrolled": true,
        "id": "LcV4JHmqSiAS",
        "outputId": "4ae3cde6-dc2d-4a1b-e2b8-4f7e18d8d84f"
      },
      "outputs": [
        {
          "data": {
            "text/html": [
              "<div>\n",
              "<style scoped>\n",
              "    .dataframe tbody tr th:only-of-type {\n",
              "        vertical-align: middle;\n",
              "    }\n",
              "\n",
              "    .dataframe tbody tr th {\n",
              "        vertical-align: top;\n",
              "    }\n",
              "\n",
              "    .dataframe thead th {\n",
              "        text-align: right;\n",
              "    }\n",
              "</style>\n",
              "<table border=\"1\" class=\"dataframe\">\n",
              "  <thead>\n",
              "    <tr style=\"text-align: right;\">\n",
              "      <th></th>\n",
              "      <th>NAME</th>\n",
              "      <th>LB</th>\n",
              "      <th>GF</th>\n",
              "      <th>JK</th>\n",
              "      <th>BG</th>\n",
              "      <th>CJ</th>\n",
              "      <th>YG</th>\n",
              "      <th>ML</th>\n",
              "      <th>MP</th>\n",
              "      <th>GR</th>\n",
              "      <th>...</th>\n",
              "      <th>JS</th>\n",
              "      <th>TL</th>\n",
              "      <th>TF</th>\n",
              "      <th>MK</th>\n",
              "      <th>IV</th>\n",
              "      <th>CC</th>\n",
              "      <th>RS</th>\n",
              "      <th>BM</th>\n",
              "      <th>LC</th>\n",
              "      <th>TOTAL</th>\n",
              "    </tr>\n",
              "  </thead>\n",
              "  <tbody>\n",
              "    <tr>\n",
              "      <th>1</th>\n",
              "      <td>1</td>\n",
              "      <td>37</td>\n",
              "      <td>41</td>\n",
              "      <td>46</td>\n",
              "      <td>27</td>\n",
              "      <td>20</td>\n",
              "      <td>41</td>\n",
              "      <td>6</td>\n",
              "      <td>34</td>\n",
              "      <td>14</td>\n",
              "      <td>...</td>\n",
              "      <td>0</td>\n",
              "      <td>0</td>\n",
              "      <td>0</td>\n",
              "      <td>0</td>\n",
              "      <td>0</td>\n",
              "      <td>0</td>\n",
              "      <td>0</td>\n",
              "      <td>0</td>\n",
              "      <td>0</td>\n",
              "      <td>295</td>\n",
              "    </tr>\n",
              "    <tr>\n",
              "      <th>2</th>\n",
              "      <td>2</td>\n",
              "      <td>47</td>\n",
              "      <td>35</td>\n",
              "      <td>24</td>\n",
              "      <td>30</td>\n",
              "      <td>5</td>\n",
              "      <td>48</td>\n",
              "      <td>18</td>\n",
              "      <td>31</td>\n",
              "      <td>12</td>\n",
              "      <td>...</td>\n",
              "      <td>1</td>\n",
              "      <td>0</td>\n",
              "      <td>0</td>\n",
              "      <td>0</td>\n",
              "      <td>0</td>\n",
              "      <td>0</td>\n",
              "      <td>0</td>\n",
              "      <td>0</td>\n",
              "      <td>0</td>\n",
              "      <td>270</td>\n",
              "    </tr>\n",
              "    <tr>\n",
              "      <th>3</th>\n",
              "      <td>3</td>\n",
              "      <td>46</td>\n",
              "      <td>47</td>\n",
              "      <td>42</td>\n",
              "      <td>23</td>\n",
              "      <td>0</td>\n",
              "      <td>18</td>\n",
              "      <td>43</td>\n",
              "      <td>30</td>\n",
              "      <td>23</td>\n",
              "      <td>...</td>\n",
              "      <td>0</td>\n",
              "      <td>0</td>\n",
              "      <td>0</td>\n",
              "      <td>0</td>\n",
              "      <td>0</td>\n",
              "      <td>0</td>\n",
              "      <td>0</td>\n",
              "      <td>0</td>\n",
              "      <td>0</td>\n",
              "      <td>294</td>\n",
              "    </tr>\n",
              "    <tr>\n",
              "      <th>4</th>\n",
              "      <td>4</td>\n",
              "      <td>24</td>\n",
              "      <td>16</td>\n",
              "      <td>17</td>\n",
              "      <td>12</td>\n",
              "      <td>0</td>\n",
              "      <td>15</td>\n",
              "      <td>27</td>\n",
              "      <td>19</td>\n",
              "      <td>13</td>\n",
              "      <td>...</td>\n",
              "      <td>0</td>\n",
              "      <td>20</td>\n",
              "      <td>0</td>\n",
              "      <td>0</td>\n",
              "      <td>0</td>\n",
              "      <td>0</td>\n",
              "      <td>0</td>\n",
              "      <td>0</td>\n",
              "      <td>0</td>\n",
              "      <td>173</td>\n",
              "    </tr>\n",
              "    <tr>\n",
              "      <th>5</th>\n",
              "      <td>5</td>\n",
              "      <td>28</td>\n",
              "      <td>10</td>\n",
              "      <td>25</td>\n",
              "      <td>21</td>\n",
              "      <td>0</td>\n",
              "      <td>14</td>\n",
              "      <td>17</td>\n",
              "      <td>25</td>\n",
              "      <td>17</td>\n",
              "      <td>...</td>\n",
              "      <td>0</td>\n",
              "      <td>37</td>\n",
              "      <td>0</td>\n",
              "      <td>0</td>\n",
              "      <td>0</td>\n",
              "      <td>0</td>\n",
              "      <td>0</td>\n",
              "      <td>0</td>\n",
              "      <td>0</td>\n",
              "      <td>217</td>\n",
              "    </tr>\n",
              "    <tr>\n",
              "      <th>6</th>\n",
              "      <td>6</td>\n",
              "      <td>24</td>\n",
              "      <td>36</td>\n",
              "      <td>24</td>\n",
              "      <td>24</td>\n",
              "      <td>1</td>\n",
              "      <td>5</td>\n",
              "      <td>19</td>\n",
              "      <td>27</td>\n",
              "      <td>16</td>\n",
              "      <td>...</td>\n",
              "      <td>0</td>\n",
              "      <td>37</td>\n",
              "      <td>0</td>\n",
              "      <td>0</td>\n",
              "      <td>0</td>\n",
              "      <td>0</td>\n",
              "      <td>0</td>\n",
              "      <td>0</td>\n",
              "      <td>0</td>\n",
              "      <td>234</td>\n",
              "    </tr>\n",
              "    <tr>\n",
              "      <th>7</th>\n",
              "      <td>7</td>\n",
              "      <td>23</td>\n",
              "      <td>29</td>\n",
              "      <td>14</td>\n",
              "      <td>25</td>\n",
              "      <td>1</td>\n",
              "      <td>4</td>\n",
              "      <td>13</td>\n",
              "      <td>19</td>\n",
              "      <td>10</td>\n",
              "      <td>...</td>\n",
              "      <td>0</td>\n",
              "      <td>29</td>\n",
              "      <td>0</td>\n",
              "      <td>0</td>\n",
              "      <td>0</td>\n",
              "      <td>0</td>\n",
              "      <td>0</td>\n",
              "      <td>0</td>\n",
              "      <td>0</td>\n",
              "      <td>198</td>\n",
              "    </tr>\n",
              "    <tr>\n",
              "      <th>8</th>\n",
              "      <td>8</td>\n",
              "      <td>19</td>\n",
              "      <td>57</td>\n",
              "      <td>20</td>\n",
              "      <td>26</td>\n",
              "      <td>1</td>\n",
              "      <td>7</td>\n",
              "      <td>26</td>\n",
              "      <td>29</td>\n",
              "      <td>15</td>\n",
              "      <td>...</td>\n",
              "      <td>0</td>\n",
              "      <td>36</td>\n",
              "      <td>0</td>\n",
              "      <td>0</td>\n",
              "      <td>0</td>\n",
              "      <td>0</td>\n",
              "      <td>0</td>\n",
              "      <td>0</td>\n",
              "      <td>0</td>\n",
              "      <td>283</td>\n",
              "    </tr>\n",
              "    <tr>\n",
              "      <th>9</th>\n",
              "      <td>9</td>\n",
              "      <td>22</td>\n",
              "      <td>44</td>\n",
              "      <td>21</td>\n",
              "      <td>30</td>\n",
              "      <td>3</td>\n",
              "      <td>0</td>\n",
              "      <td>19</td>\n",
              "      <td>16</td>\n",
              "      <td>10</td>\n",
              "      <td>...</td>\n",
              "      <td>0</td>\n",
              "      <td>36</td>\n",
              "      <td>3</td>\n",
              "      <td>0</td>\n",
              "      <td>0</td>\n",
              "      <td>0</td>\n",
              "      <td>0</td>\n",
              "      <td>0</td>\n",
              "      <td>0</td>\n",
              "      <td>232</td>\n",
              "    </tr>\n",
              "    <tr>\n",
              "      <th>10</th>\n",
              "      <td>10</td>\n",
              "      <td>20</td>\n",
              "      <td>43</td>\n",
              "      <td>9</td>\n",
              "      <td>29</td>\n",
              "      <td>0</td>\n",
              "      <td>2</td>\n",
              "      <td>15</td>\n",
              "      <td>12</td>\n",
              "      <td>9</td>\n",
              "      <td>...</td>\n",
              "      <td>0</td>\n",
              "      <td>24</td>\n",
              "      <td>7</td>\n",
              "      <td>0</td>\n",
              "      <td>0</td>\n",
              "      <td>0</td>\n",
              "      <td>0</td>\n",
              "      <td>0</td>\n",
              "      <td>0</td>\n",
              "      <td>187</td>\n",
              "    </tr>\n",
              "    <tr>\n",
              "      <th>11</th>\n",
              "      <td>11</td>\n",
              "      <td>30</td>\n",
              "      <td>4</td>\n",
              "      <td>19</td>\n",
              "      <td>19</td>\n",
              "      <td>0</td>\n",
              "      <td>0</td>\n",
              "      <td>0</td>\n",
              "      <td>8</td>\n",
              "      <td>10</td>\n",
              "      <td>...</td>\n",
              "      <td>0</td>\n",
              "      <td>31</td>\n",
              "      <td>5</td>\n",
              "      <td>0</td>\n",
              "      <td>0</td>\n",
              "      <td>0</td>\n",
              "      <td>0</td>\n",
              "      <td>0</td>\n",
              "      <td>0</td>\n",
              "      <td>148</td>\n",
              "    </tr>\n",
              "    <tr>\n",
              "      <th>12</th>\n",
              "      <td>12</td>\n",
              "      <td>15</td>\n",
              "      <td>2</td>\n",
              "      <td>25</td>\n",
              "      <td>22</td>\n",
              "      <td>0</td>\n",
              "      <td>0</td>\n",
              "      <td>10</td>\n",
              "      <td>21</td>\n",
              "      <td>16</td>\n",
              "      <td>...</td>\n",
              "      <td>0</td>\n",
              "      <td>37</td>\n",
              "      <td>8</td>\n",
              "      <td>0</td>\n",
              "      <td>0</td>\n",
              "      <td>0</td>\n",
              "      <td>0</td>\n",
              "      <td>0</td>\n",
              "      <td>0</td>\n",
              "      <td>179</td>\n",
              "    </tr>\n",
              "    <tr>\n",
              "      <th>13</th>\n",
              "      <td>13</td>\n",
              "      <td>16</td>\n",
              "      <td>1</td>\n",
              "      <td>22</td>\n",
              "      <td>18</td>\n",
              "      <td>0</td>\n",
              "      <td>0</td>\n",
              "      <td>9</td>\n",
              "      <td>35</td>\n",
              "      <td>33</td>\n",
              "      <td>...</td>\n",
              "      <td>0</td>\n",
              "      <td>41</td>\n",
              "      <td>8</td>\n",
              "      <td>7</td>\n",
              "      <td>1</td>\n",
              "      <td>0</td>\n",
              "      <td>0</td>\n",
              "      <td>0</td>\n",
              "      <td>0</td>\n",
              "      <td>206</td>\n",
              "    </tr>\n",
              "    <tr>\n",
              "      <th>14</th>\n",
              "      <td>14</td>\n",
              "      <td>11</td>\n",
              "      <td>15</td>\n",
              "      <td>27</td>\n",
              "      <td>34</td>\n",
              "      <td>0</td>\n",
              "      <td>0</td>\n",
              "      <td>5</td>\n",
              "      <td>28</td>\n",
              "      <td>0</td>\n",
              "      <td>...</td>\n",
              "      <td>0</td>\n",
              "      <td>16</td>\n",
              "      <td>0</td>\n",
              "      <td>21</td>\n",
              "      <td>6</td>\n",
              "      <td>0</td>\n",
              "      <td>0</td>\n",
              "      <td>0</td>\n",
              "      <td>0</td>\n",
              "      <td>207</td>\n",
              "    </tr>\n",
              "    <tr>\n",
              "      <th>15</th>\n",
              "      <td>15</td>\n",
              "      <td>30</td>\n",
              "      <td>4</td>\n",
              "      <td>29</td>\n",
              "      <td>23</td>\n",
              "      <td>0</td>\n",
              "      <td>0</td>\n",
              "      <td>14</td>\n",
              "      <td>33</td>\n",
              "      <td>0</td>\n",
              "      <td>...</td>\n",
              "      <td>0</td>\n",
              "      <td>29</td>\n",
              "      <td>0</td>\n",
              "      <td>14</td>\n",
              "      <td>12</td>\n",
              "      <td>37</td>\n",
              "      <td>15</td>\n",
              "      <td>2</td>\n",
              "      <td>1</td>\n",
              "      <td>285</td>\n",
              "    </tr>\n",
              "    <tr>\n",
              "      <th>16</th>\n",
              "      <td>16</td>\n",
              "      <td>22</td>\n",
              "      <td>2</td>\n",
              "      <td>13</td>\n",
              "      <td>20</td>\n",
              "      <td>0</td>\n",
              "      <td>0</td>\n",
              "      <td>22</td>\n",
              "      <td>20</td>\n",
              "      <td>0</td>\n",
              "      <td>...</td>\n",
              "      <td>0</td>\n",
              "      <td>6</td>\n",
              "      <td>0</td>\n",
              "      <td>11</td>\n",
              "      <td>2</td>\n",
              "      <td>38</td>\n",
              "      <td>12</td>\n",
              "      <td>4</td>\n",
              "      <td>2</td>\n",
              "      <td>194</td>\n",
              "    </tr>\n",
              "    <tr>\n",
              "      <th>17</th>\n",
              "      <td>17</td>\n",
              "      <td>1</td>\n",
              "      <td>3</td>\n",
              "      <td>0</td>\n",
              "      <td>19</td>\n",
              "      <td>0</td>\n",
              "      <td>0</td>\n",
              "      <td>12</td>\n",
              "      <td>13</td>\n",
              "      <td>0</td>\n",
              "      <td>...</td>\n",
              "      <td>0</td>\n",
              "      <td>29</td>\n",
              "      <td>0</td>\n",
              "      <td>16</td>\n",
              "      <td>7</td>\n",
              "      <td>35</td>\n",
              "      <td>19</td>\n",
              "      <td>0</td>\n",
              "      <td>0</td>\n",
              "      <td>177</td>\n",
              "    </tr>\n",
              "    <tr>\n",
              "      <th>18</th>\n",
              "      <td>18</td>\n",
              "      <td>4</td>\n",
              "      <td>4</td>\n",
              "      <td>0</td>\n",
              "      <td>22</td>\n",
              "      <td>0</td>\n",
              "      <td>0</td>\n",
              "      <td>18</td>\n",
              "      <td>22</td>\n",
              "      <td>0</td>\n",
              "      <td>...</td>\n",
              "      <td>0</td>\n",
              "      <td>23</td>\n",
              "      <td>0</td>\n",
              "      <td>25</td>\n",
              "      <td>11</td>\n",
              "      <td>33</td>\n",
              "      <td>18</td>\n",
              "      <td>0</td>\n",
              "      <td>0</td>\n",
              "      <td>212</td>\n",
              "    </tr>\n",
              "    <tr>\n",
              "      <th>19</th>\n",
              "      <td>19</td>\n",
              "      <td>11</td>\n",
              "      <td>1</td>\n",
              "      <td>0</td>\n",
              "      <td>28</td>\n",
              "      <td>0</td>\n",
              "      <td>0</td>\n",
              "      <td>16</td>\n",
              "      <td>1</td>\n",
              "      <td>0</td>\n",
              "      <td>...</td>\n",
              "      <td>0</td>\n",
              "      <td>29</td>\n",
              "      <td>0</td>\n",
              "      <td>26</td>\n",
              "      <td>8</td>\n",
              "      <td>36</td>\n",
              "      <td>23</td>\n",
              "      <td>0</td>\n",
              "      <td>0</td>\n",
              "      <td>203</td>\n",
              "    </tr>\n",
              "    <tr>\n",
              "      <th>20</th>\n",
              "      <td>20</td>\n",
              "      <td>17</td>\n",
              "      <td>1</td>\n",
              "      <td>0</td>\n",
              "      <td>13</td>\n",
              "      <td>0</td>\n",
              "      <td>0</td>\n",
              "      <td>32</td>\n",
              "      <td>22</td>\n",
              "      <td>0</td>\n",
              "      <td>...</td>\n",
              "      <td>0</td>\n",
              "      <td>46</td>\n",
              "      <td>0</td>\n",
              "      <td>22</td>\n",
              "      <td>6</td>\n",
              "      <td>13</td>\n",
              "      <td>19</td>\n",
              "      <td>0</td>\n",
              "      <td>0</td>\n",
              "      <td>208</td>\n",
              "    </tr>\n",
              "    <tr>\n",
              "      <th>21</th>\n",
              "      <td>21</td>\n",
              "      <td>1</td>\n",
              "      <td>3</td>\n",
              "      <td>0</td>\n",
              "      <td>19</td>\n",
              "      <td>0</td>\n",
              "      <td>0</td>\n",
              "      <td>26</td>\n",
              "      <td>18</td>\n",
              "      <td>0</td>\n",
              "      <td>...</td>\n",
              "      <td>0</td>\n",
              "      <td>47</td>\n",
              "      <td>0</td>\n",
              "      <td>11</td>\n",
              "      <td>9</td>\n",
              "      <td>40</td>\n",
              "      <td>15</td>\n",
              "      <td>0</td>\n",
              "      <td>0</td>\n",
              "      <td>201</td>\n",
              "    </tr>\n",
              "    <tr>\n",
              "      <th>22</th>\n",
              "      <td>22</td>\n",
              "      <td>4</td>\n",
              "      <td>1</td>\n",
              "      <td>0</td>\n",
              "      <td>33</td>\n",
              "      <td>0</td>\n",
              "      <td>0</td>\n",
              "      <td>20</td>\n",
              "      <td>27</td>\n",
              "      <td>0</td>\n",
              "      <td>...</td>\n",
              "      <td>0</td>\n",
              "      <td>20</td>\n",
              "      <td>0</td>\n",
              "      <td>12</td>\n",
              "      <td>7</td>\n",
              "      <td>28</td>\n",
              "      <td>14</td>\n",
              "      <td>0</td>\n",
              "      <td>0</td>\n",
              "      <td>178</td>\n",
              "    </tr>\n",
              "    <tr>\n",
              "      <th>23</th>\n",
              "      <td>23</td>\n",
              "      <td>0</td>\n",
              "      <td>0</td>\n",
              "      <td>2</td>\n",
              "      <td>23</td>\n",
              "      <td>0</td>\n",
              "      <td>0</td>\n",
              "      <td>4</td>\n",
              "      <td>24</td>\n",
              "      <td>0</td>\n",
              "      <td>...</td>\n",
              "      <td>0</td>\n",
              "      <td>26</td>\n",
              "      <td>0</td>\n",
              "      <td>14</td>\n",
              "      <td>3</td>\n",
              "      <td>9</td>\n",
              "      <td>13</td>\n",
              "      <td>0</td>\n",
              "      <td>0</td>\n",
              "      <td>142</td>\n",
              "    </tr>\n",
              "    <tr>\n",
              "      <th>24</th>\n",
              "      <td>24</td>\n",
              "      <td>0</td>\n",
              "      <td>0</td>\n",
              "      <td>0</td>\n",
              "      <td>42</td>\n",
              "      <td>0</td>\n",
              "      <td>0</td>\n",
              "      <td>11</td>\n",
              "      <td>11</td>\n",
              "      <td>0</td>\n",
              "      <td>...</td>\n",
              "      <td>0</td>\n",
              "      <td>18</td>\n",
              "      <td>0</td>\n",
              "      <td>8</td>\n",
              "      <td>4</td>\n",
              "      <td>10</td>\n",
              "      <td>10</td>\n",
              "      <td>0</td>\n",
              "      <td>0</td>\n",
              "      <td>128</td>\n",
              "    </tr>\n",
              "    <tr>\n",
              "      <th>25</th>\n",
              "      <td>25</td>\n",
              "      <td>2</td>\n",
              "      <td>0</td>\n",
              "      <td>0</td>\n",
              "      <td>16</td>\n",
              "      <td>0</td>\n",
              "      <td>0</td>\n",
              "      <td>0</td>\n",
              "      <td>33</td>\n",
              "      <td>0</td>\n",
              "      <td>...</td>\n",
              "      <td>0</td>\n",
              "      <td>0</td>\n",
              "      <td>0</td>\n",
              "      <td>15</td>\n",
              "      <td>3</td>\n",
              "      <td>19</td>\n",
              "      <td>17</td>\n",
              "      <td>0</td>\n",
              "      <td>0</td>\n",
              "      <td>127</td>\n",
              "    </tr>\n",
              "    <tr>\n",
              "      <th>26</th>\n",
              "      <td>26</td>\n",
              "      <td>0</td>\n",
              "      <td>0</td>\n",
              "      <td>0</td>\n",
              "      <td>32</td>\n",
              "      <td>0</td>\n",
              "      <td>0</td>\n",
              "      <td>0</td>\n",
              "      <td>23</td>\n",
              "      <td>0</td>\n",
              "      <td>...</td>\n",
              "      <td>0</td>\n",
              "      <td>0</td>\n",
              "      <td>0</td>\n",
              "      <td>20</td>\n",
              "      <td>9</td>\n",
              "      <td>5</td>\n",
              "      <td>18</td>\n",
              "      <td>0</td>\n",
              "      <td>0</td>\n",
              "      <td>124</td>\n",
              "    </tr>\n",
              "    <tr>\n",
              "      <th>27</th>\n",
              "      <td>27</td>\n",
              "      <td>2</td>\n",
              "      <td>0</td>\n",
              "      <td>0</td>\n",
              "      <td>26</td>\n",
              "      <td>0</td>\n",
              "      <td>0</td>\n",
              "      <td>0</td>\n",
              "      <td>34</td>\n",
              "      <td>0</td>\n",
              "      <td>...</td>\n",
              "      <td>0</td>\n",
              "      <td>0</td>\n",
              "      <td>0</td>\n",
              "      <td>12</td>\n",
              "      <td>13</td>\n",
              "      <td>8</td>\n",
              "      <td>16</td>\n",
              "      <td>0</td>\n",
              "      <td>0</td>\n",
              "      <td>135</td>\n",
              "    </tr>\n",
              "    <tr>\n",
              "      <th>28</th>\n",
              "      <td>28</td>\n",
              "      <td>7</td>\n",
              "      <td>0</td>\n",
              "      <td>0</td>\n",
              "      <td>19</td>\n",
              "      <td>0</td>\n",
              "      <td>0</td>\n",
              "      <td>0</td>\n",
              "      <td>26</td>\n",
              "      <td>0</td>\n",
              "      <td>...</td>\n",
              "      <td>0</td>\n",
              "      <td>0</td>\n",
              "      <td>0</td>\n",
              "      <td>21</td>\n",
              "      <td>22</td>\n",
              "      <td>18</td>\n",
              "      <td>13</td>\n",
              "      <td>0</td>\n",
              "      <td>0</td>\n",
              "      <td>141</td>\n",
              "    </tr>\n",
              "  </tbody>\n",
              "</table>\n",
              "<p>28 rows × 22 columns</p>\n",
              "</div>"
            ],
            "text/plain": [
              "0   NAME  LB  GF  JK  BG  CJ  YG  ML  MP  GR  ...  JS  TL  TF  MK  IV  CC  RS  \\\n",
              "1      1  37  41  46  27  20  41   6  34  14  ...   0   0   0   0   0   0   0   \n",
              "2      2  47  35  24  30   5  48  18  31  12  ...   1   0   0   0   0   0   0   \n",
              "3      3  46  47  42  23   0  18  43  30  23  ...   0   0   0   0   0   0   0   \n",
              "4      4  24  16  17  12   0  15  27  19  13  ...   0  20   0   0   0   0   0   \n",
              "5      5  28  10  25  21   0  14  17  25  17  ...   0  37   0   0   0   0   0   \n",
              "6      6  24  36  24  24   1   5  19  27  16  ...   0  37   0   0   0   0   0   \n",
              "7      7  23  29  14  25   1   4  13  19  10  ...   0  29   0   0   0   0   0   \n",
              "8      8  19  57  20  26   1   7  26  29  15  ...   0  36   0   0   0   0   0   \n",
              "9      9  22  44  21  30   3   0  19  16  10  ...   0  36   3   0   0   0   0   \n",
              "10    10  20  43   9  29   0   2  15  12   9  ...   0  24   7   0   0   0   0   \n",
              "11    11  30   4  19  19   0   0   0   8  10  ...   0  31   5   0   0   0   0   \n",
              "12    12  15   2  25  22   0   0  10  21  16  ...   0  37   8   0   0   0   0   \n",
              "13    13  16   1  22  18   0   0   9  35  33  ...   0  41   8   7   1   0   0   \n",
              "14    14  11  15  27  34   0   0   5  28   0  ...   0  16   0  21   6   0   0   \n",
              "15    15  30   4  29  23   0   0  14  33   0  ...   0  29   0  14  12  37  15   \n",
              "16    16  22   2  13  20   0   0  22  20   0  ...   0   6   0  11   2  38  12   \n",
              "17    17   1   3   0  19   0   0  12  13   0  ...   0  29   0  16   7  35  19   \n",
              "18    18   4   4   0  22   0   0  18  22   0  ...   0  23   0  25  11  33  18   \n",
              "19    19  11   1   0  28   0   0  16   1   0  ...   0  29   0  26   8  36  23   \n",
              "20    20  17   1   0  13   0   0  32  22   0  ...   0  46   0  22   6  13  19   \n",
              "21    21   1   3   0  19   0   0  26  18   0  ...   0  47   0  11   9  40  15   \n",
              "22    22   4   1   0  33   0   0  20  27   0  ...   0  20   0  12   7  28  14   \n",
              "23    23   0   0   2  23   0   0   4  24   0  ...   0  26   0  14   3   9  13   \n",
              "24    24   0   0   0  42   0   0  11  11   0  ...   0  18   0   8   4  10  10   \n",
              "25    25   2   0   0  16   0   0   0  33   0  ...   0   0   0  15   3  19  17   \n",
              "26    26   0   0   0  32   0   0   0  23   0  ...   0   0   0  20   9   5  18   \n",
              "27    27   2   0   0  26   0   0   0  34   0  ...   0   0   0  12  13   8  16   \n",
              "28    28   7   0   0  19   0   0   0  26   0  ...   0   0   0  21  22  18  13   \n",
              "\n",
              "0   BM  LC  TOTAL  \n",
              "1    0   0    295  \n",
              "2    0   0    270  \n",
              "3    0   0    294  \n",
              "4    0   0    173  \n",
              "5    0   0    217  \n",
              "6    0   0    234  \n",
              "7    0   0    198  \n",
              "8    0   0    283  \n",
              "9    0   0    232  \n",
              "10   0   0    187  \n",
              "11   0   0    148  \n",
              "12   0   0    179  \n",
              "13   0   0    206  \n",
              "14   0   0    207  \n",
              "15   2   1    285  \n",
              "16   4   2    194  \n",
              "17   0   0    177  \n",
              "18   0   0    212  \n",
              "19   0   0    203  \n",
              "20   0   0    208  \n",
              "21   0   0    201  \n",
              "22   0   0    178  \n",
              "23   0   0    142  \n",
              "24   0   0    128  \n",
              "25   0   0    127  \n",
              "26   0   0    124  \n",
              "27   0   0    135  \n",
              "28   0   0    141  \n",
              "\n",
              "[28 rows x 22 columns]"
            ]
          },
          "execution_count": 8,
          "metadata": {},
          "output_type": "execute_result"
        }
      ],
      "source": [
        "df=pd.read_csv('coffeeData_3.csv',sep=\";\",header=None,index_col=0).T\n",
        "df\n",
        "months=df['NAME']\n",
        "Total=df['TOTAL']"
      ]
    },
    {
      "cell_type": "markdown",
      "metadata": {
        "id": "PAx7XnyPSiAV"
      },
      "source": [
        "i transposed the data set just so it would make things easier for me when trying to read data, it doesnt change anything but it made the data easier for me to look at"
      ]
    },
    {
      "cell_type": "code",
      "execution_count": null,
      "metadata": {
        "id": "6wVaNoIbSiAa",
        "outputId": "aeaf2d00-e3fe-426c-c6e3-5ac6b7304547"
      },
      "outputs": [
        {
          "name": "stdout",
          "output_type": "stream",
          "text": [
            "PearsonrResult (-0.7262978185860691, 1.2114262616308441e-05) SpearmanrResult(correlation=-0.7077175697865353, pvalue=2.5287796396264843e-05) KendalltauResult(correlation=-0.5343915343915343, pvalue=3.0859337119773405e-05)\n"
          ]
        }
      ],
      "source": [
        "A=stats.pearsonr(months,ave)\n",
        "B=stats.spearmanr(months,ave)\n",
        "C=stats.kendalltau(months,ave)\n",
        "print(\"PearsonrResult\",A,B,C)"
      ]
    },
    {
      "cell_type": "markdown",
      "metadata": {
        "id": "DkNxm6MOSiAb"
      },
      "source": [
        "the first part of actual analysis i did was compare the average coffe drank to months using correlation coefficients, pearson and spearman results came back with a strong negative correlation suggesting that peoples average coffee consumption went down as time went on which is interesting as i expected there to be a more cyclic pattern the kendall coefficient still showed a negative correlation but not as strong of one which is interesting given this is more suited to smaller data grouds like the one i have."
      ]
    },
    {
      "cell_type": "code",
      "execution_count": null,
      "metadata": {
        "id": "eleH6JRbSiAc",
        "outputId": "ec58c67f-619c-43b9-d544-0e2c9f7fd06f"
      },
      "outputs": [
        {
          "data": {
            "text/plain": [
              "<function matplotlib.pyplot.show(close=None, block=None)>"
            ]
          },
          "execution_count": 42,
          "metadata": {},
          "output_type": "execute_result"
        },
        {
          "data": {
            "image/png": "[encoded data removed]",
            "text/plain": [
              "<Figure size 432x288 with 1 Axes>"
            ]
          },
          "metadata": {
            "needs_background": "light"
          },
          "output_type": "display_data"
        },
        {
          "data": {
            "image/png": "[encoded data removed]",
            "text/plain": [
              "<Figure size 432x288 with 1 Axes>"
            ]
          },
          "metadata": {
            "needs_background": "light"
          },
          "output_type": "display_data"
        }
      ],
      "source": [
        "plt.figure(1)\n",
        "plt.plot(months,ave)\n",
        "plt.title(\"average cups of coffee drank by month\")\n",
        "plt.xlabel(\"month\")\n",
        "plt.ylabel(\"number of cups drank\")\n",
        "plt.figure(2)\n",
        "plt.plot(months,Total)\n",
        "plt.title(\"total cups of coffee drank by month\")\n",
        "plt.xlabel(\"month\")\n",
        "plt.ylabel(\"number of cups drank\")\n",
        "plt.show"
      ]
    },
    {
      "cell_type": "markdown",
      "metadata": {
        "id": "HsvfKoWASiAd"
      },
      "source": [
        "so to see what the data looks like first thing i wanted to do was create a line graph of the average coffee drank vs the number of months that had passed, which while appearing at first to have a pattern of increasing and decreasing drastically in short periods of time as i expected something interesting happens towards the end of the gaph the average seems to significantly drop off, we know that the data starts in september of 2017 however some weeks or months are missing in the data so theres no way to tell exactly when this drop off of coffee consumption happened or what exactly caused it the drop appears to begin at some point in 2019 or possibly due to enough missing dates the beginning of 2020 which would make sense as the pandemic would certainly cause a significaant drop in the data.however like i say there is no way to tell from the data when exactly this is.\n"
      ]
    },
    {
      "cell_type": "code",
      "execution_count": null,
      "metadata": {
        "id": "vFncimCsSiAe",
        "outputId": "df2e7ed5-b330-426c-b795-48a94638ebe5"
      },
      "outputs": [
        {
          "data": {
            "image/png": "[encoded data removed]",
            "text/plain": [
              "<Figure size 432x288 with 1 Axes>"
            ]
          },
          "execution_count": 45,
          "metadata": {},
          "output_type": "execute_result"
        },
        {
          "data": {
            "image/png": "[encoded data removed]",
            "text/plain": [
              "<Figure size 432x288 with 1 Axes>"
            ]
          },
          "metadata": {
            "needs_background": "light"
          },
          "output_type": "display_data"
        }
      ],
      "source": [
        "\n",
        "plot_acf(ave,title=\"autocorrelation function of the average cups of coffe drank by month\")\n"
      ]
    },
    {
      "cell_type": "code",
      "execution_count": null,
      "metadata": {
        "id": "ZxXj9kBOSiAf",
        "outputId": "00bdc917-8497-4f8f-a94a-551b8034aaa9"
      },
      "outputs": [
        {
          "data": {
            "image/png": "[encoded data removed]",
            "text/plain": [
              "<Figure size 432x288 with 1 Axes>"
            ]
          },
          "execution_count": 46,
          "metadata": {},
          "output_type": "execute_result"
        },
        {
          "data": {
            "image/png": "[encoded data removed]",
            "text/plain": [
              "<Figure size 432x288 with 1 Axes>"
            ]
          },
          "metadata": {
            "needs_background": "light"
          },
          "output_type": "display_data"
        }
      ],
      "source": [
        "plot_acf(Total,title=\"autocorrelation function of the total cups of coffe drank by month\")"
      ]
    },
    {
      "cell_type": "markdown",
      "metadata": {
        "id": "I5Y83CH4SiAh"
      },
      "source": [
        "even though i was now fairly sure that my initial hypothesis was wrong in that average coffee drank was not cyclic in nature i still wanted to be sure and to have a way to visually tell one way or the other so i plotted autocorrelation functions use peaks to show how cyclic a data set is ie if there is a repeating pattern in the data. as i suspected the data begins with a large peak hinting some semblence of a pattern repeating and then it tails off at the end such that there is very little cyclic behaviour. the data looks the same when done with the total number of coffees drank per month which makes sense because this would increase and decrease in the same way as the average."
      ]
    },
    {
      "cell_type": "code",
      "execution_count": null,
      "metadata": {
        "id": "GL4i35sSSiAi",
        "outputId": "aefb7b18-7d16-494f-ac54-8246d759b3d3"
      },
      "outputs": [
        {
          "data": {
            "text/plain": [
              "array(['LB', 'GF', 'JK', 'BG', 'CJ', 'YG', 'ML', 'MP', 'GR', 'DB', 'MH',\n",
              "       'JS', 'TL', 'TF', 'MK', 'IV', 'CC', 'RS', 'BM', 'LC', 'TOTAL'],\n",
              "      dtype=object)"
            ]
          },
          "execution_count": 7,
          "metadata": {},
          "output_type": "execute_result"
        }
      ],
      "source": [
        "names=data.groupby([\"NAME\"])\n",
        "data[\"NAME\"].unique()"
      ]
    },
    {
      "cell_type": "markdown",
      "metadata": {
        "id": "OAgK2R9RSiAk"
      },
      "source": [
        "i thought then that maybe i would see if the pattern of having a somewhat cyclic first half of the data and then a drop of in the last year was true of individuals so i first created a list of the names to reffer to."
      ]
    },
    {
      "cell_type": "code",
      "execution_count": null,
      "metadata": {
        "id": "IuNl9eC5SiAr"
      },
      "outputs": [],
      "source": [
        "LB=df['LB']\n",
        "GF=df['GF']\n",
        "JK=df['JK']\n",
        "BG=df['BG']\n",
        "CJ=df['CJ']\n",
        "YG=df['YG']\n",
        "ML=df['ML']\n",
        "MP=df['MP']\n",
        "GR=df['GR']\n",
        "DB=df['DB']\n",
        "MH=df['MH']\n",
        "JS=df['JS']\n",
        "TL=df['TL']\n",
        "TF=df['TF']\n",
        "MK=df['MK']\n",
        "IV=df['IV']\n",
        "CC=df['CC']\n",
        "RS=df['RS']\n",
        "BM=df['BM']\n",
        "LC=df['LC']\n",
        "Total=df['TOTAL']\n"
      ]
    },
    {
      "cell_type": "markdown",
      "metadata": {
        "id": "hoGNAl1eSiAs"
      },
      "source": [
        "here i am just creating arrays for the data for each person"
      ]
    },
    {
      "cell_type": "code",
      "execution_count": null,
      "metadata": {
        "id": "2zFi1KwFSiBg",
        "outputId": "4aa3b183-19d7-47ed-a56f-872c8188d9c0"
      },
      "outputs": [
        {
          "data": {
            "image/png": "[encoded data removed]",
            "text/plain": [
              "<Figure size 432x288 with 1 Axes>"
            ]
          },
          "metadata": {
            "needs_background": "light"
          },
          "output_type": "display_data"
        },
        {
          "data": {
            "image/png": "[encoded data removed]",
            "text/plain": [
              "<Figure size 432x288 with 1 Axes>"
            ]
          },
          "metadata": {
            "needs_background": "light"
          },
          "output_type": "display_data"
        },
        {
          "data": {
            "image/png": "[encoded data removed]",
            "text/plain": [
              "<Figure size 432x288 with 1 Axes>"
            ]
          },
          "metadata": {
            "needs_background": "light"
          },
          "output_type": "display_data"
        },
        {
          "data": {
            "image/png": "[encoded data removed]",
            "text/plain": [
              "<Figure size 432x288 with 1 Axes>"
            ]
          },
          "metadata": {
            "needs_background": "light"
          },
          "output_type": "display_data"
        },
        {
          "data": {
            "image/png": "[encoded data removed]",
            "text/plain": [
              "<Figure size 432x288 with 1 Axes>"
            ]
          },
          "metadata": {
            "needs_background": "light"
          },
          "output_type": "display_data"
        },
        {
          "data": {
            "image/png": "[encoded data removed]",
            "text/plain": [
              "<Figure size 432x288 with 1 Axes>"
            ]
          },
          "metadata": {
            "needs_background": "light"
          },
          "output_type": "display_data"
        },
        {
          "data": {
            "image/png": "[encoded data removed]",
            "text/plain": [
              "<Figure size 432x288 with 1 Axes>"
            ]
          },
          "metadata": {
            "needs_background": "light"
          },
          "output_type": "display_data"
        },
        {
          "data": {
            "image/png": "[encoded data removed]",
            "text/plain": [
              "<Figure size 432x288 with 1 Axes>"
            ]
          },
          "metadata": {
            "needs_background": "light"
          },
          "output_type": "display_data"
        },
        {
          "data": {
            "image/png": "[encoded data removed]",
            "text/plain": [
              "<Figure size 432x288 with 1 Axes>"
            ]
          },
          "metadata": {
            "needs_background": "light"
          },
          "output_type": "display_data"
        },
        {
          "data": {
            "image/png": "[encoded data removed]",
            "text/plain": [
              "<Figure size 432x288 with 1 Axes>"
            ]
          },
          "metadata": {
            "needs_background": "light"
          },
          "output_type": "display_data"
        },
        {
          "data": {
            "image/png": "[encoded data removed]",
            "text/plain": [
              "<Figure size 432x288 with 1 Axes>"
            ]
          },
          "metadata": {
            "needs_background": "light"
          },
          "output_type": "display_data"
        },
        {
          "data": {
            "image/png": "[encoded data removed]",
            "text/plain": [
              "<Figure size 432x288 with 1 Axes>"
            ]
          },
          "metadata": {
            "needs_background": "light"
          },
          "output_type": "display_data"
        },
        {
          "data": {
            "image/png": "[encoded data removed]",
            "text/plain": [
              "<Figure size 432x288 with 1 Axes>"
            ]
          },
          "metadata": {
            "needs_background": "light"
          },
          "output_type": "display_data"
        },
        {
          "data": {
            "image/png": "[encoded data removed]",
            "text/plain": [
              "<Figure size 432x288 with 1 Axes>"
            ]
          },
          "metadata": {
            "needs_background": "light"
          },
          "output_type": "display_data"
        },
        {
          "data": {
            "image/png": "[encoded data removed]",
            "text/plain": [
              "<Figure size 432x288 with 1 Axes>"
            ]
          },
          "metadata": {
            "needs_background": "light"
          },
          "output_type": "display_data"
        },
        {
          "data": {
            "image/png": "[encoded data removed]",
            "text/plain": [
              "<Figure size 432x288 with 1 Axes>"
            ]
          },
          "metadata": {
            "needs_background": "light"
          },
          "output_type": "display_data"
        },
        {
          "data": {
            "image/png": "[encoded data removed]",
            "text/plain": [
              "<Figure size 432x288 with 1 Axes>"
            ]
          },
          "metadata": {
            "needs_background": "light"
          },
          "output_type": "display_data"
        },
        {
          "data": {
            "image/png": "[encoded data removed]",
            "text/plain": [
              "<Figure size 432x288 with 1 Axes>"
            ]
          },
          "metadata": {
            "needs_background": "light"
          },
          "output_type": "display_data"
        },
        {
          "data": {
            "image/png": "[encoded data removed]",
            "text/plain": [
              "<Figure size 432x288 with 1 Axes>"
            ]
          },
          "metadata": {
            "needs_background": "light"
          },
          "output_type": "display_data"
        },
        {
          "data": {
            "image/png": "[encoded data removed]",
            "text/plain": [
              "<Figure size 432x288 with 1 Axes>"
            ]
          },
          "metadata": {
            "needs_background": "light"
          },
          "output_type": "display_data"
        }
      ],
      "source": [
        "plt.figure(1)\n",
        "plt.scatter(months,LB)\n",
        "plt.title('LB')\n",
        "plt.xlabel(\"months\")\n",
        "plt.ylabel(\"number of coffees drank\")\n",
        "plt.figure(2)\n",
        "plt.scatter(months,GF)\n",
        "plt.title('GF')\n",
        "plt.xlabel(\"months\")\n",
        "plt.ylabel(\"number of coffees drank\")\n",
        "plt.figure(3)\n",
        "plt.scatter(months,JK)\n",
        "plt.title('JK')\n",
        "plt.xlabel(\"months\")\n",
        "plt.ylabel(\"number of coffees drank\")\n",
        "plt.figure(4)\n",
        "plt.scatter(months,BG)\n",
        "plt.title('BG')\n",
        "plt.xlabel(\"months\")\n",
        "plt.ylabel(\"number of coffees drank\")\n",
        "plt.figure(5)\n",
        "plt.scatter(months,CJ)\n",
        "plt.title('CJ')\n",
        "plt.xlabel(\"months\")\n",
        "plt.ylabel(\"number of coffees drank\")\n",
        "plt.figure(6)\n",
        "plt.scatter(months,YG)\n",
        "plt.title('YG')\n",
        "plt.xlabel(\"months\")\n",
        "plt.ylabel(\"number of coffees drank\")\n",
        "plt.figure(7)\n",
        "plt.scatter(months,ML)\n",
        "plt.title('ML')\n",
        "plt.xlabel(\"months\")\n",
        "plt.ylabel(\"number of coffees drank\")\n",
        "plt.figure(8)\n",
        "plt.scatter(months,MP)\n",
        "plt.title('MP')\n",
        "plt.xlabel(\"months\")\n",
        "plt.ylabel(\"number of coffees drank\")\n",
        "plt.figure(9)\n",
        "plt.scatter(months,GR)\n",
        "plt.title('GR')\n",
        "plt.xlabel(\"months\")\n",
        "plt.ylabel(\"number of coffees drank\")\n",
        "plt.figure(10)\n",
        "plt.scatter(months,DB)\n",
        "plt.title('DB')\n",
        "plt.xlabel(\"months\")\n",
        "plt.ylabel(\"number of coffees drank\")\n",
        "plt.figure(11)\n",
        "plt.scatter(months,MH)\n",
        "plt.title('MH')\n",
        "plt.xlabel(\"months\")\n",
        "plt.ylabel(\"number of coffees drank\")\n",
        "plt.figure(12)\n",
        "plt.scatter(months,JS)\n",
        "plt.title('JS')\n",
        "plt.xlabel(\"months\")\n",
        "plt.ylabel(\"number of coffees drank\")\n",
        "plt.figure(13)\n",
        "plt.scatter(months,TL)\n",
        "plt.title('TL')\n",
        "plt.xlabel(\"months\")\n",
        "plt.ylabel(\"number of coffees drank\")\n",
        "plt.figure(14)\n",
        "plt.scatter(months,TF)\n",
        "plt.title('TF')\n",
        "plt.xlabel(\"months\")\n",
        "plt.ylabel(\"number of coffees drank\")\n",
        "plt.figure(15)\n",
        "plt.scatter(months,MK)\n",
        "plt.title('MK')\n",
        "plt.xlabel(\"months\")\n",
        "plt.ylabel(\"number of coffees drank\")\n",
        "plt.figure(16)\n",
        "plt.scatter(months,IV)\n",
        "plt.title('IV')\n",
        "plt.xlabel(\"months\")\n",
        "plt.ylabel(\"number of coffees drank\")\n",
        "plt.figure(17)\n",
        "plt.scatter(months,CC)\n",
        "plt.title('CC')\n",
        "plt.xlabel(\"months\")\n",
        "plt.ylabel(\"number of coffees drank\")\n",
        "plt.figure(18)\n",
        "plt.scatter(months,RS)\n",
        "plt.title('RS')\n",
        "plt.xlabel(\"months\")\n",
        "plt.ylabel(\"number of coffees drank\")\n",
        "plt.figure(19)\n",
        "plt.scatter(months,BM)\n",
        "plt.title('BM')\n",
        "plt.xlabel(\"months\")\n",
        "plt.ylabel(\"number of coffees drank\")\n",
        "plt.figure(20)\n",
        "plt.scatter(months,LC)\n",
        "plt.title('LC')\n",
        "plt.xlabel(\"months\")\n",
        "plt.ylabel(\"number of coffees drank\")\n",
        "plt.show()"
      ]
    },
    {
      "cell_type": "markdown",
      "metadata": {
        "id": "mxwCNcRpSiBp"
      },
      "source": [
        "interestingly after i created scatter plots for each individual person i noticed there was a number of people as i expected from the average data that completely stopped drinking coffee in the later months. however there were also a number of people who had not drank coffee during the first half, who began drinking coffee towards the end which means that my initial thoughts that the drop off in coffee during the later half most likely wasnt to do with the months being the pandemic as if some of the people only began to drink coffee during this time it must not be because the people were at home and therefore unable to drink coffee. there must be something else going on"
      ]
    },
    {
      "cell_type": "code",
      "execution_count": null,
      "metadata": {
        "id": "3b5V_n8_SiBr",
        "outputId": "85da9160-9e53-4f92-fadb-064af2ba244e"
      },
      "outputs": [
        {
          "data": {
            "image/png": "[encoded data removed]",
            "text/plain": [
              "<Figure size 432x288 with 1 Axes>"
            ]
          },
          "execution_count": 16,
          "metadata": {},
          "output_type": "execute_result"
        },
        {
          "data": {
            "image/png": "[encoded data removed]",
            "text/plain": [
              "<Figure size 432x288 with 1 Axes>"
            ]
          },
          "metadata": {
            "needs_background": "light"
          },
          "output_type": "display_data"
        },
        {
          "data": {
            "image/png": "[encoded data removed]",
            "text/plain": [
              "<Figure size 432x288 with 1 Axes>"
            ]
          },
          "metadata": {
            "needs_background": "light"
          },
          "output_type": "display_data"
        },
        {
          "data": {
            "image/png": "[encoded data removed]",
            "text/plain": [
              "<Figure size 432x288 with 1 Axes>"
            ]
          },
          "metadata": {
            "needs_background": "light"
          },
          "output_type": "display_data"
        },
        {
          "data": {
            "image/png": "[encoded data removed]",
            "text/plain": [
              "<Figure size 432x288 with 1 Axes>"
            ]
          },
          "metadata": {
            "needs_background": "light"
          },
          "output_type": "display_data"
        },
        {
          "data": {
            "image/png": "[encoded data removed]",
            "text/plain": [
              "<Figure size 432x288 with 1 Axes>"
            ]
          },
          "metadata": {
            "needs_background": "light"
          },
          "output_type": "display_data"
        },
        {
          "data": {
            "image/png": "[encoded data removed]",
            "text/plain": [
              "<Figure size 432x288 with 1 Axes>"
            ]
          },
          "metadata": {
            "needs_background": "light"
          },
          "output_type": "display_data"
        },
        {
          "data": {
            "image/png": "[encoded data removed]",
            "text/plain": [
              "<Figure size 432x288 with 1 Axes>"
            ]
          },
          "metadata": {
            "needs_background": "light"
          },
          "output_type": "display_data"
        },
        {
          "data": {
            "image/png": "[encoded data removed]",
            "text/plain": [
              "<Figure size 432x288 with 1 Axes>"
            ]
          },
          "metadata": {
            "needs_background": "light"
          },
          "output_type": "display_data"
        },
        {
          "data": {
            "image/png": "[encoded data removed]",
            "text/plain": [
              "<Figure size 432x288 with 1 Axes>"
            ]
          },
          "metadata": {
            "needs_background": "light"
          },
          "output_type": "display_data"
        },
        {
          "data": {
            "image/png": "[encoded data removed]",
            "text/plain": [
              "<Figure size 432x288 with 1 Axes>"
            ]
          },
          "metadata": {
            "needs_background": "light"
          },
          "output_type": "display_data"
        },
        {
          "data": {
            "image/png": "[encoded data removed]",
            "text/plain": [
              "<Figure size 432x288 with 1 Axes>"
            ]
          },
          "metadata": {
            "needs_background": "light"
          },
          "output_type": "display_data"
        },
        {
          "data": {
            "image/png": "[encoded data removed]",
            "text/plain": [
              "<Figure size 432x288 with 1 Axes>"
            ]
          },
          "metadata": {
            "needs_background": "light"
          },
          "output_type": "display_data"
        },
        {
          "data": {
            "image/png": "[encoded data removed]",
            "text/plain": [
              "<Figure size 432x288 with 1 Axes>"
            ]
          },
          "metadata": {
            "needs_background": "light"
          },
          "output_type": "display_data"
        },
        {
          "data": {
            "image/png": "[encoded data removed]",
            "text/plain": [
              "<Figure size 432x288 with 1 Axes>"
            ]
          },
          "metadata": {
            "needs_background": "light"
          },
          "output_type": "display_data"
        },
        {
          "data": {
            "image/png": "[encoded data removed]",
            "text/plain": [
              "<Figure size 432x288 with 1 Axes>"
            ]
          },
          "metadata": {
            "needs_background": "light"
          },
          "output_type": "display_data"
        },
        {
          "data": {
            "image/png": "[encoded data removed]",
            "text/plain": [
              "<Figure size 432x288 with 1 Axes>"
            ]
          },
          "metadata": {
            "needs_background": "light"
          },
          "output_type": "display_data"
        },
        {
          "data": {
            "image/png": "[encoded data removed]",
            "text/plain": [
              "<Figure size 432x288 with 1 Axes>"
            ]
          },
          "metadata": {
            "needs_background": "light"
          },
          "output_type": "display_data"
        },
        {
          "data": {
            "image/png": "[encoded data removed]",
            "text/plain": [
              "<Figure size 432x288 with 1 Axes>"
            ]
          },
          "metadata": {
            "needs_background": "light"
          },
          "output_type": "display_data"
        },
        {
          "data": {
            "image/png": "[encoded data removed]",
            "text/plain": [
              "<Figure size 432x288 with 1 Axes>"
            ]
          },
          "metadata": {
            "needs_background": "light"
          },
          "output_type": "display_data"
        },
        {
          "data": {
            "image/png": "[encoded data removed]",
            "text/plain": [
              "<Figure size 432x288 with 1 Axes>"
            ]
          },
          "metadata": {
            "needs_background": "light"
          },
          "output_type": "display_data"
        }
      ],
      "source": [
        "\n",
        "plot_acf(LB, title=\"LB\")\n",
        "plot_acf(GF, title=\"GF\")\n",
        "plot_acf(JK, title=\"JK\")\n",
        "plot_acf(BG, title=\"BG\")\n",
        "plot_acf(CJ, title=\"CJ\")\n",
        "plot_acf(YG, title=\"YG\")\n",
        "plot_acf(ML, title=\"ML\")\n",
        "plot_acf(MP, title=\"MP\")\n",
        "plot_acf(GR, title=\"GR\")\n",
        "plot_acf(DB, title=\"DB\")\n",
        "plot_acf(MH, title=\"MH\")\n",
        "plot_acf(JS, title=\"JS\")\n",
        "plot_acf(TL, title=\"TL\")\n",
        "plot_acf(TF, title=\"TF\")\n",
        "plot_acf(MK, title=\"MK\")\n",
        "plot_acf(IV, title=\"IV\")\n",
        "plot_acf(CC, title=\"CC\")\n",
        "plot_acf(RS, title=\"RS\")\n",
        "plot_acf(BM, title=\"BM\")\n",
        "plot_acf(LC, title=\"LC\")\n"
      ]
    },
    {
      "cell_type": "markdown",
      "metadata": {
        "id": "VkocTPKlSiBw"
      },
      "source": [
        "again i wanted to see how cyclic the behaviour was so i plotted some autocorrelation functions for each person and there were some poeple like the initial plots suggested who began with very cyclic behaviour but that then tapered off in the second half. there were some individuals with repeating patterns the whole way such as MK and RS who had very repeating correlations which is interesting as these individuals were those that started the time drinking 0 cups and then began drinking coffee during the later half of the data."
      ]
    },
    {
      "cell_type": "code",
      "execution_count": null,
      "metadata": {
        "id": "DQKTZVZUSiBx",
        "outputId": "95c56242-f751-44b2-f72b-52631e6110c9"
      },
      "outputs": [
        {
          "data": {
            "text/plain": [
              "[1      True\n",
              " 2      True\n",
              " 3      True\n",
              " 4      True\n",
              " 5      True\n",
              " 6      True\n",
              " 7      True\n",
              " 8      True\n",
              " 9      True\n",
              " 10     True\n",
              " 11     True\n",
              " 12     True\n",
              " 13     True\n",
              " 14     True\n",
              " 15    False\n",
              " 16    False\n",
              " 17    False\n",
              " 18    False\n",
              " 19    False\n",
              " 20    False\n",
              " 21    False\n",
              " 22    False\n",
              " 23    False\n",
              " 24    False\n",
              " 25    False\n",
              " 26    False\n",
              " 27    False\n",
              " 28    False\n",
              " Name: NAME, dtype: bool]"
            ]
          },
          "execution_count": 84,
          "metadata": {},
          "output_type": "execute_result"
        }
      ],
      "source": [
        "half1=df[df['NAME']<=14]\n",
        "half2=df[df['NAME']>14]\n",
        "binary=(df['NAME']<=14)\n",
        "dfbinary= binary.astype(int)"
      ]
    },
    {
      "cell_type": "markdown",
      "metadata": {
        "id": "gGVzNYZASiBy"
      },
      "source": [
        "here i create a binary to split the averages into the first half of the time and the second half of the time"
      ]
    },
    {
      "cell_type": "code",
      "execution_count": null,
      "metadata": {
        "id": "vK2XQ9eGSiBz"
      },
      "outputs": [],
      "source": [
        "x_train, x_test, y_train, y_test = train_test_split(ave.reshape(-1,1), months,  test_size=20, random_state=1)"
      ]
    },
    {
      "cell_type": "code",
      "execution_count": null,
      "metadata": {
        "id": "tv5QPYEWSiB0"
      },
      "outputs": [],
      "source": [
        "here i am creating my path for the linear regression function to optimise and then create test values for the averages"
      ]
    },
    {
      "cell_type": "code",
      "execution_count": null,
      "metadata": {
        "id": "fsouk0b4SiB1"
      },
      "outputs": [],
      "source": [
        "model = LinearRegression()\n",
        "model.fit(x_train, y_train)\n",
        "y_pred = model.predict(x_test)\n"
      ]
    },
    {
      "cell_type": "markdown",
      "metadata": {
        "id": "904yIBpUSiB3"
      },
      "source": [
        "here i am actually creating the linear regression model which i can then fit to the values i created earlier"
      ]
    },
    {
      "cell_type": "code",
      "execution_count": null,
      "metadata": {
        "id": "95V2PffrSiB3",
        "outputId": "3ac49eee-9f23-48d9-88ae-e9f8aa0a64a4"
      },
      "outputs": [
        {
          "data": {
            "image/png": "[encoded data removed]",
            "text/plain": [
              "<Figure size 432x288 with 1 Axes>"
            ]
          },
          "metadata": {
            "needs_background": "light"
          },
          "output_type": "display_data"
        }
      ],
      "source": [
        "plt.scatter(x_test, y_test, color=\"black\")\n",
        "plt.plot(x_test, y_pred, color=\"blue\", linewidth=3)\n",
        "\n",
        "\n",
        "plt.show()"
      ]
    },
    {
      "cell_type": "markdown",
      "metadata": {
        "id": "TRDttZovSiB5"
      },
      "source": [
        "this shows my linear regression which fits my data quite nicely in the first half but due to the change in the second half doesnt fit as well in the second half but overall it shows the general trend of the cups of coffee drank decreasing as time increases."
      ]
    },
    {
      "cell_type": "code",
      "execution_count": null,
      "metadata": {
        "id": "UDyVgE4SSiB5"
      },
      "outputs": [],
      "source": [
        "x1=ave1\n",
        "x2=ave2\n",
        "months14=np.arange(0,14,1)\n",
        "xmin, xmax =0 , np.max(ave)\n",
        "ymin, ymax = np.min(months), np.max(months)\n"
      ]
    },
    {
      "cell_type": "markdown",
      "metadata": {
        "id": "eyyQnbJmSiB6"
      },
      "source": [
        "here i am just setting up my data to go into the machine learning techniques"
      ]
    },
    {
      "cell_type": "code",
      "execution_count": null,
      "metadata": {
        "id": "zH0OBoU9SiB7",
        "outputId": "8ae461e4-8490-4a58-bce8-1abbf62e8e76"
      },
      "outputs": [
        {
          "data": {
            "image/png": "[encoded data removed]",
            "text/plain": [
              "<Figure size 432x288 with 1 Axes>"
            ]
          },
          "metadata": {
            "needs_background": "light"
          },
          "output_type": "display_data"
        }
      ],
      "source": [
        "clf =SVC(kernel='linear')\n",
        "model3 = clf.fit(np.dstack([ave1,ave2])[0],half1['NAME'])\n",
        "\n",
        "xx, yy = np.meshgrid(np.arange(xmin, xmax, 0.1), np.arange(ymin, ymax, 0.01))\n",
        "\n",
        "Z = clf.predict(np.c_[xx.ravel(), yy.ravel()])\n",
        "Z = Z.reshape(xx.shape)\n",
        "\n",
        "plt.figure(1)\n",
        "plt.contourf(xx, yy, Z, alpha=1,\n",
        "                 cmap='ocean')\n",
        "\n",
        "plt.scatter(half1['NAME'],ave1, color='b', zorder = 1, alpha=0.7)\n",
        "plt.scatter(half1['NAME'],ave2,  color='r', zorder = 1, alpha=0.7)\n",
        "\n",
        "\n",
        "\n",
        "plt.show()"
      ]
    },
    {
      "cell_type": "markdown",
      "metadata": {
        "id": "-0gEXBilSiB7"
      },
      "source": [
        "this is a support vector machine its supposed to show using two middling results the seperation between the first set of data in this case being the averages from the 1st 14 months and the average from the second 14 months. they are very close so it has done a reasonable job however because the two are so close it has not seperated the results out entirely"
      ]
    },
    {
      "cell_type": "code",
      "execution_count": null,
      "metadata": {
        "id": "51zOMr85SiB8"
      },
      "outputs": [],
      "source": [
        "from sklearn.neighbors import KNeighborsClassifier\n",
        "\n",
        "clf2 = KNeighborsClassifier(2)\n",
        "model2 = clf2.fit(np.dstack((x1,x2))[0],half1['NAME'])"
      ]
    },
    {
      "cell_type": "markdown",
      "metadata": {
        "id": "6RvfLnBOSiB8"
      },
      "source": [
        "because the svm didnt do a great job of sperating the results i wanted to try another machine learning technique in the nearest neigbour classicifaction, my hope was because svm uses straight line vectors to classify the results into two categories and the results were somewhat overlapping the nearest neighbour classifier would create non linear lines around the results that were either side of the line."
      ]
    },
    {
      "cell_type": "code",
      "execution_count": null,
      "metadata": {
        "id": "a64l-ugBSiB9",
        "outputId": "146eb5ae-1f96-49f5-81f1-117b626ab88d"
      },
      "outputs": [
        {
          "data": {
            "image/png": "[encoded data removed]",
            "text/plain": [
              "<Figure size 432x288 with 1 Axes>"
            ]
          },
          "metadata": {
            "needs_background": "light"
          },
          "output_type": "display_data"
        }
      ],
      "source": [
        "xx, yy = np.meshgrid(np.arange(xmin, xmax, 0.1), np.arange(ymin, ymax, 0.01))\n",
        "\n",
        "\n",
        "Z = model2.predict(np.c_[xx.ravel(), yy.ravel()])\n",
        "Z = Z.reshape(xx.shape)\n",
        "\n",
        "plt.figure(1)\n",
        "plt.contourf(xx, yy, Z, alpha=1,\n",
        "                 cmap='ocean')\n",
        "\n",
        "plt.scatter(half1['NAME'],ave1, color='b', zorder = 1, alpha=0.7)\n",
        "plt.scatter(months14,ave2,  color='r', zorder = 1, alpha=0.7)\n",
        "\n",
        "\n",
        "\n",
        "plt.show()"
      ]
    },
    {
      "cell_type": "markdown",
      "metadata": {
        "id": "ItXWOk8ASiB9"
      },
      "source": [
        "this approach gave me better classification in the second half but i think due to the nature of the data being so intertwined it did a worse job of classifying the data into seperate portions in the first half of the data."
      ]
    },
    {
      "cell_type": "markdown",
      "metadata": {
        "id": "mznKXOUFSiB-"
      },
      "source": [
        "overall after reviewing the data that i found, i believe due to the correlations i was looking for the autocorrelation function was the best way to represent the data. this showed that the data was not as i first believed to be a cyclic event where patterns would repeat on a roughly 12 month basis but that the pattern was cyclic in the first half and showed a drop in the second half. the regression technique was good for showing that there was definitely a negative correlation from the first half of the time to the second however because the results had a lot of outliers this did not fit the data as well as i would have hoped given the results from the acf, however overall it did do a reasonable job of proving that the average amount of coffee drank decreased when going from the first year to the secon year. the two machine learning techniques were nteresting to look at however i think because the data was close they unable to show a clear boundry between the first half of the data and the second half, they both did a decent job of showing the difference when it came to the last few months and the latter half of the first 14 months as this was where the biggest difference was but because the middling months were so close together and overlapping in some parts they were not fully able to show seperation between the two.\n",
        "to rank the methods i used for suitability to my specific data set i would say the scf did the best job, the linear regression did a good job with the first half of the data because it was closer together and a bad job with the second half of the data, and the machine learning techniques did a bad job with the first half of the data but a good job with the second half of the data.\n",
        "if i were to test this data again i would still use all three techniques as each did a good job with specific parts of the data that i would want to look at but i would put more focus on the auto correlation function as that showed exactly what i was trying to test with the data and proved my initial assumption wrong which was interesting to see.\n"
      ]
    },
    {
      "cell_type": "code",
      "execution_count": null,
      "metadata": {
        "id": "WqaGxSZ5SiB-"
      },
      "outputs": [],
      "source": []
    }
  ],
  "metadata": {
    "kernelspec": {
      "display_name": "Python 3",
      "language": "python",
      "name": "python3"
    },
    "language_info": {
      "codemirror_mode": {
        "name": "ipython",
        "version": 3
      },
      "file_extension": ".py",
      "mimetype": "text/x-python",
      "name": "python",
      "nbconvert_exporter": "python",
      "pygments_lexer": "ipython3",
      "version": "3.8.5"
    },
    "colab": {
      "provenance": [],
      "include_colab_link": true
    }
  },
  "nbformat": 4,
  "nbformat_minor": 0
}