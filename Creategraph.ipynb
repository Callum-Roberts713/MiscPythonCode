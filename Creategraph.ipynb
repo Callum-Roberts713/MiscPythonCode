{
  "nbformat": 4,
  "nbformat_minor": 0,
  "metadata": {
    "colab": {
      "provenance": [],
      "authorship_tag": "ABX9TyMA9Lvjzk/O2C/zieJkc68u",
      "include_colab_link": true
    },
    "kernelspec": {
      "name": "python3",
      "display_name": "Python 3"
    },
    "language_info": {
      "name": "python"
    }
  },
  "cells": [
    {
      "cell_type": "markdown",
      "metadata": {
        "id": "view-in-github",
        "colab_type": "text"
      },
      "source": [
        "<a href=\"https://colab.research.google.com/github/Callum-Roberts713/MiscPythonCode/blob/main/Creategraph.ipynb\" target=\"_parent\"><img src=\"https://colab.research.google.com/assets/colab-badge.svg\" alt=\"Open In Colab\"/></a>"
      ]
    },
    {
      "cell_type": "code",
      "execution_count": 10,
      "metadata": {
        "colab": {
          "base_uri": "https://localhost:8080/"
        },
        "id": "-LTm_TXJcwcn",
        "outputId": "49256e8a-dd2d-483f-8467-436709309f1a"
      },
      "outputs": [
        {
          "output_type": "stream",
          "name": "stdout",
          "text": [
            "      longitude  latitude  housing_median_age  total_rooms  total_bedrooms  \\\n",
            "0       -122.05     37.37                27.0       3885.0           661.0   \n",
            "1       -118.30     34.26                43.0       1510.0           310.0   \n",
            "2       -117.81     33.78                27.0       3589.0           507.0   \n",
            "3       -118.36     33.82                28.0         67.0            15.0   \n",
            "4       -119.67     36.33                19.0       1241.0           244.0   \n",
            "...         ...       ...                 ...          ...             ...   \n",
            "2995    -119.86     34.42                23.0       1450.0           642.0   \n",
            "2996    -118.14     34.06                27.0       5257.0          1082.0   \n",
            "2997    -119.70     36.30                10.0        956.0           201.0   \n",
            "2998    -117.12     34.10                40.0         96.0            14.0   \n",
            "2999    -119.63     34.42                42.0       1765.0           263.0   \n",
            "\n",
            "      population  households  median_income  median_house_value  \n",
            "0         1537.0       606.0         6.6085            344700.0  \n",
            "1          809.0       277.0         3.5990            176500.0  \n",
            "2         1484.0       495.0         5.7934            270500.0  \n",
            "3           49.0        11.0         6.1359            330000.0  \n",
            "4          850.0       237.0         2.9375             81700.0  \n",
            "...          ...         ...            ...                 ...  \n",
            "2995      1258.0       607.0         1.1790            225000.0  \n",
            "2996      3496.0      1036.0         3.3906            237200.0  \n",
            "2997       693.0       220.0         2.2895             62000.0  \n",
            "2998        46.0        14.0         3.2708            162500.0  \n",
            "2999       753.0       260.0         8.5608            500001.0  \n",
            "\n",
            "[3000 rows x 9 columns]\n"
          ]
        }
      ],
      "source": [
        "import pandas as pd\n",
        "import matplotlib.pyplot as plt\n",
        "import numpy as np\n",
        "%matplotlib inline\n",
        "Data = 'sample_data/california_housing_test.csv'\n",
        "df = pd.read_csv(Data)\n",
        "print(df )\n"
      ]
    },
    {
      "cell_type": "code",
      "source": [
        "x= df['total_bedrooms']\n",
        "a = df['median_house_value'].value_counts()\n",
        "b = df['housing_median_age']\n",
        "\n",
        "def create_graph():\n",
        "  fig, ax = plt.subplots(figsize = (5, 3), layout = 'constrained')\n",
        "  #ax.plot(x,b, label= 'bedrooms')\n",
        "  #ax.plot(a, label='house value')\n",
        "  ax.hist(a.index, 50, density = True,facecolor = '#36836c', label='house price', alpha = 0.75)\n",
        "  #ax.set_xticks(np.arange(0,2.5,0.5))  #, [ 0, 0.5, 1, 1.5, 2])\n",
        "  ax.set_xlabel('House Price')\n",
        "  ax.set_ylabel('no of houses')\n",
        "  ax.set_title('California House Prices')\n",
        "  ax.legend()\n",
        "  return fig.savefig('California House Prices.png')\n",
        "\n",
        "create_graph()"
      ],
      "metadata": {
        "colab": {
          "base_uri": "https://localhost:8080/",
          "height": 328
        },
        "id": "nXnridtxgQvb",
        "outputId": "c951d7c6-8d52-425c-9637-73aa04a936c8"
      },
      "execution_count": 46,
      "outputs": [
        {
          "output_type": "display_data",
          "data": {
            "text/plain": [
              "<Figure size 500x300 with 1 Axes>"
            ],
            "image/png": "[encoded data removed]"
          },
          "metadata": {}
        }
      ]
    },
    {
      "cell_type": "code",
      "source": [],
      "metadata": {
        "id": "DQoKjqT7g_5G"
      },
      "execution_count": null,
      "outputs": []
    }
  ]
}